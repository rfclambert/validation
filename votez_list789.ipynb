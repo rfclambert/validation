{
 "cells": [
  {
   "cell_type": "markdown",
   "metadata": {},
   "source": [
    "Nous allons commencer par vérifier que l'ordinateur quantique est universel en créant toutes les portes logiques de base! Pour tout construire ensuite, il faudra revoir vos cours d'archi.\n",
    "Sachant que le processeur quantique à IBM n'utilise, à sa base, que les portes $U_1(\\lambda)$, $R_X(\\frac{\\pi}{2})$ et $CX$."
   ]
  },
  {
   "cell_type": "code",
   "execution_count": null,
   "metadata": {},
   "outputs": [],
   "source": []
  }
 ],
 "metadata": {
  "kernelspec": {
   "display_name": "Python 3",
   "language": "python",
   "name": "python3"
  },
  "language_info": {
   "codemirror_mode": {
    "name": "ipython",
    "version": 3
   },
   "file_extension": ".py",
   "mimetype": "text/x-python",
   "name": "python",
   "nbconvert_exporter": "python",
   "pygments_lexer": "ipython3",
   "version": "3.7.2"
  }
 },
 "nbformat": 4,
 "nbformat_minor": 2
}
