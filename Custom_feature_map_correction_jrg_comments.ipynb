{
 "cells": [
  {
   "cell_type": "markdown",
   "metadata": {},
   "source": [
    "# Creating Custom Feature Maps in Qiskit Aqua for <br>Quantum Support Vector Machines\n"
   ]
  },
  {
   "cell_type": "markdown",
   "metadata": {},
   "source": [
    "Support vector machines (SVM) address the problem of supervised learning through the construction of a classifier. Havlicek *et al*. proposed two strategies to design a quantum SVM, namely the Quantum Kernel Estimator and the Quantum Variatonal Classifier. Both of these strategies use data that is provided classically and encodes it in the quantum state space through a quantum feature map.[1] The choice of which feature map to use is important and may depend on the given dataset we want to classify. In this tutorial, we show how to configure new feature maps in Aqua and explore their impact on the accuracy of the quantum classifier.\n",
    "\n",
    "[1] Havlicek _et al_.  Nature **567**, 209-212 (2019). https://www.nature.com/articles/s41586-019-0980-2, https://arxiv.org/abs/1804.11326\n",
    "\n",
    "Aqua provides several options for customizing the quantum feature map. In particular, there are four main parameters that can be used for model selection: the circuit depth, the data map function, the quantum gate set and the order of expansion. We will go through each of these parameters in this tutorial, but before getting started, let us review the main concepts of the quantum feature map discussed in [1].\n"
   ]
  },
  {
   "cell_type": "markdown",
   "metadata": {},
   "source": [
    "### Review of the Quantum Feature Map\n"
   ]
  },
  {
   "cell_type": "markdown",
   "metadata": {},
   "source": [
    "A quantum feature map nonlinearly maps classical datum **x** to a quantum state $|\\Phi(\\mathbf{x})\\rangle\\langle\\Phi(\\mathbf{x})|$, a vector in the Hilbert space of density matrices. Support vector machine classifiers find a hyperplane separating each vector $|\\Phi(\\mathbf{x}_i)\\rangle\\langle\\Phi(\\mathbf{x}_i)|$ depending on their label, supported by a reduced amount of vectors (the so-called support vectors). A key element of the feature map is not only the use of quantum state space as a feature space but also the way data are mapped into this high dimensional space.\n",
    "\n",
    "Constructing feature maps based on quantum circuits that are hard to simulate classically is an important steps towards obtaining a quantum advantage over classical approaches. The authors of [1] proposed a family of feature maps that is conjectured to be hard to simulate classically and that can be implemented as short-depth circuits on near-term quantum devices.\n",
    "\n",
    "$$ \\mathcal{U}_{\\Phi(\\mathbf{x})}=\\prod_d U_{\\Phi(\\mathbf{x})}H^{\\otimes n},\\ U_{\\Phi(\\mathbf{x})}=\\exp\\left(i\\sum_{S\\subseteq[1,n]}\\phi_S(\\mathbf{x})\\prod_{k\\in S} P_k\\right) $$\n",
    "\n",
    "The number of qubits $n$ in the quantum circuit is equal to the dimensionality of the classical data $\\mathbf{x}$, which are encoded through the coefficients $\\phi_S(\\mathbf{x})$. The quantum circuit is composed of $d$ repeated layers of Hadamard gates interleaved with entangling blocks, which are expressed in terms of the Pauli gates $P_k \\in \\{\\mathbb{1}_k, X_k, Y_k, Z_k \\}$. The parameters $d$, $\\phi_S$ and $P_k$ are mutable for both classification algorithms (Quantum Variational Classifier and Quantum Kernel Estimator) in Aqua. We note that the depth $d=1$ circuit considered in [1] can be efficiently simulated classically by uniform sampling, while the $d=2$ variant is conjectured to be hard to simulate classically.\n",
    "\n",
    "<img src=\"images/uphi.PNG\" width=\"400\" />\n",
    "\n",
    "The size of $S$ can be controled as well. We call the $r$-th order expansion, the feature map of this circuit family when $|S|\\leq r$. In Aqua, the default is the second order expansion $|S|\\leq 2$ used in [1], but can be increased. The greater the upper bound the more interactions will be taken into account. This gives $n$ singeltons $S=\\{i\\}$, and, depending on the connectivity graph of the quantum device, up to $\\frac{n(n-1)}{2}$ couples to encode non-linear interactions.\n",
    "\n",
    "Finally, we have a choice of the set of Pauli gates to use. Only contributions from $Z$ and $ZZ$ gates are considered in [1], because the corresponding $U_{\\Phi(\\mathbf{\\mathbf{x}})}$ can be implemented efficiently, which is important for applications on NISQ devices."
   ]
  },
  {
   "cell_type": "markdown",
   "metadata": {},
   "source": [
    "### Programming the Quantum Feature Map\n",
    "\n",
    "We will now see how to modify these four parameters (circuit depth, data map function, quantum gate set and expansion order) in Aqua. There are two default settings, both easily configurable, which allow modifications of the depth and data map, but not the gate set: `FirstOrderExpansion` and `SecondOrderExpansion`. To test them and see how they work, we need to have data.\n",
    "\n",
    "<span style=\"color:green\">[Note: We want to build up in \"complexity\" of the feature maps here. So perhaps a better order would be to discuss `FirstOrderExpansion` first, then follow with `SecondOrderExpansion` and the customized data map function.]</span>\n",
    "\n",
    "<span style=\"color:green\">[To more clearly see the effects of the different choices of feature maps, perhaps it would be interesting to use the `ad_hoc` dataset. This dataset was generated by the default `SecondOrderExpansion` and so if we use that same feature map to classify the data, we can expect nearly perfect test accuracy. So we could show that (1) default `FirstOrderExpansion` performs worse than default `SecondOrderExpansion` (we already know this to be the case) and (2) `SecondOrderExpansion` with a different data map perfoms worse/better than the default `SecondOrderExpansion` (this has not been tested yet) and (3) higher-order `PauliExpansion` with custom datamap performs worse/better than default `SecondOrderExpansion` (this has not been tested yet).]\n",
    "</span>"
   ]
  },
  {
   "cell_type": "code",
   "execution_count": 1,
   "metadata": {},
   "outputs": [],
   "source": [
    "import numpy as np\n",
    "import matplotlib.pyplot as plt\n",
    "from qiskit import BasicAer\n",
    "from qiskit_aqua import run_algorithm, QuantumInstance\n",
    "from qiskit_aqua.components.feature_maps import SecondOrderExpansion, FirstOrderExpansion, PauliExpansion, self_product\n",
    "from qsvm_datasets import *\n",
    "from qiskit_aqua.algorithms import QSVMKernel\n",
    "import functools"
   ]
  },
  {
   "cell_type": "markdown",
   "metadata": {},
   "source": [
    "<span style=\"color:green\">\n",
    "[If we are going to use the Iris dataset, let's pull it from the file where it's already set up: qiskit-tutorials/qiskit/aqua/artificial_intelligence/qsvm_datasets.py\n",
    "    \n",
    "Three things will need to be fixed in that file first (open an issue in github?): <br>\n",
    "(1) In 'train_test_split', 'test_size' is set to '1'. We should change this to, e.g., 0.3 <br>\n",
    "(2) Add option here to do PCA to reduce dimensionality instead of simply removing some features\n",
    "(3) Create the test dictionary from the test array, not the train array\n",
    "\n",
    "Using $X$ and $Y$ to describe the training and test input could be confusing since the labels are usually represented by the latter.]\n",
    "</span>"
   ]
  },
  {
   "cell_type": "code",
   "execution_count": 2,
   "metadata": {},
   "outputs": [],
   "source": [
    "#We use ad_hoc data generated by a quantum feature map\n",
    "\n",
    "feature_dim = 2\n",
    "\n",
    "sample_Total, training_input, test_input, class_labels = ad_hoc_data(training_size=15, \n",
    "                                                                     test_size=20, \n",
    "                                                                     n=feature_dim, \n",
    "                                                                     gap=0.3, \n",
    "                                                                     PLOT_DATA=False)"
   ]
  },
  {
   "cell_type": "markdown",
   "metadata": {},
   "source": [
    "With the data, we will use the Quantum SVM Classifier to test different feature maps. We will start with the first order expansion, of depth $d=2$, using only $Z$ gates, the default data map (discussed below), and a full connectivity graph."
   ]
  },
  {
   "cell_type": "markdown",
   "metadata": {},
   "source": [
    "With the data, we will use the Quantum SVM Classifier to test the feature map with the same parameters as described in [1]. Namely, a second order expansion, of depth $d=2$, using only $Z$ gates,the default data map (discussed below), and a full connectivity graph."
   ]
  },
  {
   "cell_type": "code",
   "execution_count": 2,
   "metadata": {},
   "outputs": [],
   "source": [
    "shots = 1024\n",
    "random_seed = 10598\n",
    "\n",
    "# We use the simulator\n",
    "backend = BasicAer.get_backend('qasm_simulator')\n",
    "quantum_instance = QuantumInstance(backend, shots=shots, seed=random_seed, seed_mapper=random_seed)"
   ]
  },
  {
   "cell_type": "markdown",
   "metadata": {},
   "source": [
    "#### 1. First Order Diagonal Expansion\n",
    "\n"
   ]
  },
  {
   "cell_type": "code",
   "execution_count": 4,
   "metadata": {},
   "outputs": [
    {
     "name": "stdout",
     "output_type": "stream",
     "text": [
      "testing success ratio:  0.85\n"
     ]
    }
   ],
   "source": [
    "# Generate the feature map\n",
    "feature_map = FirstOrderExpansion(num_qubits=feature_dim, depth=2)\n",
    "\n",
    "# Run the Quantum Variational Classifier, and test it\n",
    "\n",
    "qsvm = QSVMKernel(feature_map, training_input, test_input)\n",
    "result = qsvm.run(quantum_instance)\n",
    "print(\"testing success ratio: \", result['testing_accuracy'])"
   ]
  },
  {
   "cell_type": "markdown",
   "metadata": {},
   "source": [
    "Here we have used the `FirstOrderExpansion` feature map, so it forces $|S|=1$, there is no interaction between features of the data encoded in the circuit, and no entanglement. It takes as input the number of qubits (same as the of the data), the circuit depth $d$, an entangler map to encode the connectivity of the qubits (default is `entangler_map=None`, meaning we will use a pre-computed connectivity graph according to the next parameter), a string parameter called `entanglement` with options `'full'` or `'linear'` to generate connectivity if it isn't provided in `entangler_map` (default value is `'full'`, meaning it will consider the connectivity graph to be complete and consider all $\\frac{n(n-1)}{2}$ interactions) and the data map $\\phi_S(\\mathbf{x})$ which will make non-linear connections in data (default value is  `data_map_func=self_product`, where `self_product` represents \n",
    "\n",
    "$$\\phi_S:x\\mapsto \\Bigg\\{\\begin{array}{ll}\n",
    "    x_i & \\mbox{if}\\ S=\\{i\\} \\\\\n",
    "        (\\pi-x_i)(\\pi-x_j) & \\mbox{if}\\ S=\\{i,j\\}\n",
    "    \\end{array}$$.\n",
    "\n",
    "\n",
    "Because we used `FirstOrderExpansion`, the connectivity didn't mattered, but it will be important for increased order of expansion, such as the `SecondOrderExpansion`"
   ]
  },
  {
   "cell_type": "markdown",
   "metadata": {},
   "source": [
    "#### 2. Second Order Diagonal Expansion\n",
    "\n",
    "The `SecondOrderExpansion` feature map allows $|S|\\leq2$, so this time interactions in the data will be encoded in the feature map, according to the connectivity graph and the data map function. This is, with the set of parameters used here, the same feature map as described in [1]."
   ]
  },
  {
   "cell_type": "code",
   "execution_count": 5,
   "metadata": {},
   "outputs": [
    {
     "name": "stdout",
     "output_type": "stream",
     "text": [
      "testing success ratio:  0.975\n"
     ]
    }
   ],
   "source": [
    "feature_map = SecondOrderExpansion(num_qubits=feature_dim, depth=2)\n",
    "\n",
    "qsvm = QSVMKernel(feature_map, training_input, test_input)\n",
    "result = qsvm.run(quantum_instance)\n",
    "print(\"testing success ratio: \", result['testing_accuracy'])"
   ]
  },
  {
   "cell_type": "markdown",
   "metadata": {},
   "source": [
    "We see here it gives better results, because the dataset is made from this exact feature map. So obviously we will get near perfect results with only a few data points.\n",
    "\n",
    "#### 3. Second Order Diagonal Expansion with Custom Data Map\n",
    "\n",
    "We can also construct a new data map $\\phi_S(\\mathbf{x})$ and provide a custom entangler map via a dictionary describing the qubit connectivity."
   ]
  },
  {
   "cell_type": "markdown",
   "metadata": {},
   "source": [
    "<span style=\"color:green\">\n",
    "    \n",
    "I had issues with the way QSVMKernel works: it creates a certain type of threads, incompatible with python console. However, the way python notebooks work is close to this. The only quick workaround I found was to put the custom data map in an other file and import it, I will try to find a better looking solution (see ProcessPoolExecutor documentation). \n",
    "\n",
    "</span>"
   ]
  },
  {
   "cell_type": "code",
   "execution_count": 6,
   "metadata": {},
   "outputs": [],
   "source": [
    "from custom_data_map import custom_data_map_func\n",
    "\n",
    "# The entangler map is a dictionary,\n",
    "# keys are source qubit index (int),\n",
    "# values are arrays of target qubit index(es) (int)\n",
    "\n",
    "entangler_map = {0:[1]} # qubit 0 linked to qubit 1"
   ]
  },
  {
   "cell_type": "code",
   "execution_count": 7,
   "metadata": {},
   "outputs": [
    {
     "name": "stdout",
     "output_type": "stream",
     "text": [
      "testing success ratio:  0.65\n"
     ]
    }
   ],
   "source": [
    "# Here we use all available parameters for the simple feature maps\n",
    "# (entanglement='full' won't be used because we provide entangler_map)\n",
    "\n",
    "feature_map = SecondOrderExpansion(num_qubits=feature_dim,\n",
    "                                   depth=2,\n",
    "                                   data_map_func=custom_data_map_func,\n",
    "                                   entangler_map=entangler_map)\n",
    "\n",
    "qsvm = QSVMKernel(feature_map, training_input, test_input)\n",
    "result = qsvm.run(quantum_instance)\n",
    "print(\"testing success ratio: \", result['testing_accuracy'])"
   ]
  },
  {
   "cell_type": "markdown",
   "metadata": {},
   "source": [
    "We see changing the data map function reduced the efficiency of the model, so it must be carfully chosen."
   ]
  },
  {
   "cell_type": "markdown",
   "metadata": {},
   "source": [
    "#### 4. Second Order Pauli Expansion\n",
    "\n",
    "For some applications, we could want to change the set of Pauli gates used, to have more flexibility, instead of using $Z$ gates only. To do that, we can use the `PauliExpansion` feature map. It has the same parameters as the other `FirstOrderExpansion` and `SecondOrderExpansion` (`depth`, `entangler_map`, `data_map_function`), but also has a `paulis` parameter to change the gate set.\n",
    "\n",
    "This parameter is a `list` of `string`, each representing the Pauli gate to use. The default value for this parameter is `['Z', 'ZZ']`, which is equivalent to `SecondOrderExpansion`."
   ]
  },
  {
   "cell_type": "markdown",
   "metadata": {},
   "source": [
    "Now we will a feature map using only Pauli $Y$ gates, `paulis=['Z', 'Y', 'ZZ']`."
   ]
  },
  {
   "cell_type": "code",
   "execution_count": 8,
   "metadata": {},
   "outputs": [
    {
     "name": "stdout",
     "output_type": "stream",
     "text": [
      "testing success ratio:  0.65\n"
     ]
    }
   ],
   "source": [
    "feature_map = PauliExpansion(num_qubits=feature_dim, depth=2, paulis = ['Z', 'Y', 'ZZ'])\n",
    "\n",
    "qsvm = QSVMKernel(feature_map, training_input, test_input)\n",
    "result = qsvm.run(quantum_instance)\n",
    "print(\"testing success ratio: \", result['testing_accuracy'])"
   ]
  },
  {
   "cell_type": "markdown",
   "metadata": {},
   "source": [
    "Each `string` in `paulis` is implemented one at a time. Note that for a single character, for example `'Z'`, a layer of single-qubit gates are added to the circuit, while terms such as `'ZZ'` will add a layer of corresponding two-qubit entangling gates for each qubit pair available.\n",
    "\n",
    "For example, the choice `paulis = ['Z', 'Y', 'ZZ']` generates a quantum feature map of the form \n",
    "\n",
    "$$\\mathcal{U}_{\\Phi(\\mathbf{x})} = \\left( \\exp\\left(i\\sum_{jk} \\phi_{\\{j,k\\}}(\\mathbf{x}) Z_j \\otimes Z_k\\right) \\, \\exp\\left(i\\sum_{j} \\phi_{\\{j\\}}(\\mathbf{x}) Y_j\\right) \\, \\exp\\left(i\\sum_j \\phi_{\\{j\\}}(\\mathbf{x}) Z_j\\right) \\, H^{\\otimes n} \\right)^d.$$ \n",
    "\n",
    "The depth $d=1$ version of the quantum circuit is shown below  <span style=\"color:green\">[perhaps we should use the actual gates in the diagram to make clear the connection to the specific example: I think it will be more confusing because A gates are U1 gates, but B gates are A gates with a basis change, so the complete diagram would be longer and less clear]</span>\n",
    "\n",
    "\n",
    "<img src=\"images/depth1.PNG\" width=\"400\"/>\n",
    "\n",
    "The circuit begins with a layer of Hadamard gates $H^{\\otimes n}$, followed by a layer of $A$ gates and a layer of $B$ gates. The $A$ and $B$ gates are single-qubit rotations by the same set of angles $\\phi_{\\{i\\}}(\\mathbf{x})$ but around different axes: $B = e^{i\\phi_{\\{i\\}}(\\mathbf{x})Y_i}$ and $A = e^{i\\phi_{\\{i\\}}(\\mathbf{x})Z_i}$. The entangling $ZZ$ gate $e^{i \\phi_{\\{0,1\\}}(\\mathbf{x}) Z_0 Z_1}$ is parametrized by an angle $\\phi_{\\{0,1\\}}(\\mathbf{x})$ and can be implemented using two controlled-NOT gates and one $A'=e^{i\\phi_{\\{0,1\\}}(x)Z_1}$ gate as shown in the figure.\n",
    "\n",
    "To compare, `paulis = ['Z', 'ZZ']` creates the same circuit as above but without the $B$ gates, while `paulis = ['Z', 'YY']` creates a circuit with a layer of $A$ gates followed by a layer of entangling $YY$ gates.\n"
   ]
  },
  {
   "cell_type": "markdown",
   "metadata": {},
   "source": [
    "#### 5. Third Order Pauli Expansion with Custom Data Map\n",
    "\n",
    "One should note that `PauliExpansion` allows third order or more expansions, for example `paulis = ['Y', 'Z', 'ZZ', 'ZZZ']`. Assuming the data has dimensionality of at least three and we have access to three qubits, this generates a feature map according to the previously mentioned rule, with $|S|\\leq 3$. \n",
    "\n",
    "For example, suppose we want to classify three-dimensional data, using a third order expansion, a custom data map, a circuit depth of $d=2$, and a $Y$ gate for non-interactive encoding of the data, in addition to the $Z$ gates. We can do this with the following code in Aqua."
   ]
  },
  {
   "cell_type": "code",
   "execution_count": 3,
   "metadata": {},
   "outputs": [],
   "source": [
    "feature_dim = 3\n",
    "sample_Total, training_input, test_input, class_labels = ad_hoc_data(training_size=10, \n",
    "                                                                     test_size=10, \n",
    "                                                                     n=feature_dim, \n",
    "                                                                     gap=0.3, \n",
    "                                                                     PLOT_DATA=False)"
   ]
  },
  {
   "cell_type": "code",
   "execution_count": 10,
   "metadata": {},
   "outputs": [
    {
     "name": "stdout",
     "output_type": "stream",
     "text": [
      "testing success ratio:  0.55\n"
     ]
    }
   ],
   "source": [
    "feature_map = PauliExpansion(num_qubits=feature_dim, depth=2, paulis = ['Y', 'Z', 'ZZ', 'ZZZ'])\n",
    "\n",
    "qsvm = QSVMKernel(feature_map, training_input, test_input)\n",
    "result = qsvm.run(quantum_instance)\n",
    "print(\"testing success ratio: \", result['testing_accuracy'])"
   ]
  },
  {
   "cell_type": "markdown",
   "metadata": {},
   "source": [
    "Because the connectivity is `'full'` by default, this circuit will contain a layer of $B$ gates parametrised by $\\phi_{\\{i\\}}(\\mathbf x)$, a layer of $A$ gates parametrised by $\\phi_{\\{i\\}}(\\mathbf x)$, three $ZZ$ gates, one for each pair of qubits $(0,1),\\ (1,2),\\ (0,2)$, and finally a $ZZZ$ gate $e^{i\\phi_{\\{0,1,2 \\}}(x)Z_0Z_1Z_2}$. "
   ]
  },
  {
   "cell_type": "markdown",
   "metadata": {},
   "source": [
    "### Conclusion\n",
    "\n",
    "<span style=\"color:green\">[Include short description on how to create a completely new, pluggable feature map in Aqua.]</span>"
   ]
  },
  {
   "cell_type": "markdown",
   "metadata": {},
   "source": [
    "We saw how to generate feature maps from the family described in [1]. It creates powerfull feature maps, and has already a lot of option to fit to a lot of different problems. But we may want to use a totally new feature map, using a different algorithm and circuit.\n",
    "\n",
    "To do that, we only need to create a new class implementing the class `FeatureMap`, and its method `construct_circuit`. As an example, here is a general custom feature map class, taking the circuit construction algorithm (the core of the feature map, the way it's generating the circuit), and a list of necessary arguments."
   ]
  },
  {
   "cell_type": "code",
   "execution_count": 20,
   "metadata": {},
   "outputs": [],
   "source": [
    "\"\"\"\n",
    "This module contains the definition of a base class for\n",
    "feature map. Several types of commonly used approaches.\n",
    "\"\"\"\n",
    "\n",
    "\n",
    "import logging\n",
    "\n",
    "import numpy as np\n",
    "from qiskit import QuantumCircuit, QuantumRegister\n",
    "\n",
    "from qiskit_aqua.components.feature_maps import FeatureMap\n",
    "from inspect import signature\n",
    "\n",
    "logger = logging.getLogger(__name__)\n",
    "\n",
    "\n",
    "class CustomExpansion(FeatureMap):\n",
    "    \"\"\"\n",
    "    Mapping data the way you want\n",
    "    \"\"\"\n",
    "\n",
    "    CONFIGURATION = {\n",
    "        'name': 'CustomExpansion',\n",
    "        'description': 'Custom expansion for feature map (any order)',\n",
    "        'input_schema': {\n",
    "            '$schema': 'http://json-schema.org/schema#',\n",
    "            'id': 'Custom_Expansion_schema',\n",
    "            'type': 'object',\n",
    "            'properties': {\n",
    "                'feature_param': {\n",
    "                    'type': ['array']\n",
    "                }\n",
    "            },\n",
    "            'additionalProperties': False\n",
    "        }\n",
    "    }\n",
    "\n",
    "    def __init__(self, num_qubits, constructor_function, feature_param):\n",
    "        \"\"\"Constructor.\n",
    "\n",
    "        Args:\n",
    "            num_qubits (int): number of qubits\n",
    "            constructor_function (fun): a function that takes as parameters\n",
    "            a datum x, a QuantumRegister qr, a boolean inverse and\n",
    "            all other parameters needed from feature_param\n",
    "            feature_param (list): the list of parameters needed to generate\n",
    "            the circuit, that won't change depending on the data given\n",
    "            (such as the data map function or other).\n",
    "        \"\"\"\n",
    "        self.validate(locals())\n",
    "        super().__init__()\n",
    "        self._num_qubits = num_qubits\n",
    "        sig = signature(constructor_function)\n",
    "        if len(sig.parameters) != len(feature_param)+3:\n",
    "            raise ValueError(\"The constructor_function given don't match the parameters given.\\n\" +\n",
    "                             \"Make sure it takes, in this order, the datum x, the QuantumRegister qr, the Boolean\\n\" +\n",
    "                             \" inverse and all the parameters provided in feature_param\")\n",
    "        self._constructor_function = constructor_function\n",
    "        self._feature_param = feature_param\n",
    "    \n",
    "    # The only method mandatory to implement\n",
    "    def construct_circuit(self, x, qr=None, inverse=False):\n",
    "        \"\"\"\n",
    "        Construct the circuit based on given data and according to the function provided at instantiation.\n",
    "\n",
    "        Args:\n",
    "            x (numpy.ndarray): 1-D to-be-transformed data.\n",
    "            qr (QauntumRegister): the QuantumRegister object for the circuit, if None,\n",
    "                                  generate new registers with name q.\n",
    "            inverse (bool): whether or not inverse the circuit\n",
    "\n",
    "        Returns:\n",
    "            QuantumCircuit: a quantum circuit transform data x.\n",
    "        \"\"\"\n",
    "        if not isinstance(x, np.ndarray):\n",
    "            raise TypeError(\"x must be numpy array.\")\n",
    "        if x.ndim != 1:\n",
    "            raise ValueError(\"x must be 1-D array.\")\n",
    "        if x.shape[0] != self._num_qubits:\n",
    "            raise ValueError(\"number of qubits and data dimension must be the same.\")\n",
    "        if qr is None:\n",
    "            qr = QuantumRegister(self._num_qubits, name='q')\n",
    "        qc = self._constructor_function(x, qr, inverse, *self._feature_param)\n",
    "        return qc\n"
   ]
  },
  {
   "cell_type": "code",
   "execution_count": 27,
   "metadata": {},
   "outputs": [],
   "source": [
    "def constructor_function(x, qr, inverse=False, depth=2):\n",
    "    \"\"\"A mock constructor function to test the class,\n",
    "    it only places H and u1 gates.\"\"\"\n",
    "    qc = QuantumCircuit(qr)\n",
    "    for _ in range(depth):\n",
    "        qc.h(qr)\n",
    "        for i in range(len(x)):\n",
    "            qc.u1(x[i], qr[i])\n",
    "    return qc\n",
    "  "
   ]
  },
  {
   "cell_type": "markdown",
   "metadata": {},
   "source": [
    "We put them in separated files to show the general process."
   ]
  },
  {
   "cell_type": "code",
   "execution_count": 5,
   "metadata": {},
   "outputs": [
    {
     "name": "stdout",
     "output_type": "stream",
     "text": [
      "testing success ratio:  0.45\n"
     ]
    }
   ],
   "source": [
    "from custom_feature_map import CustomExpansion\n",
    "from mock_constructor import constructor_function\n",
    "\n",
    "feature_map = CustomExpansion(num_qubits=feature_dim, constructor_function=constructor_function, feature_param=[2])\n",
    "\n",
    "qsvm = QSVMKernel(feature_map, training_input, test_input)\n",
    "result = qsvm.run(quantum_instance)\n",
    "print(\"testing success ratio: \", result['testing_accuracy'])"
   ]
  }
 ],
 "metadata": {
  "kernelspec": {
   "display_name": "Python 3",
   "language": "python",
   "name": "python3"
  },
  "language_info": {
   "codemirror_mode": {
    "name": "ipython",
    "version": 3
   },
   "file_extension": ".py",
   "mimetype": "text/x-python",
   "name": "python",
   "nbconvert_exporter": "python",
   "pygments_lexer": "ipython3",
   "version": "3.7.2"
  }
 },
 "nbformat": 4,
 "nbformat_minor": 2
}
