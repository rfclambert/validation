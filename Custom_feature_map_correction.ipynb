{
 "cells": [
  {
   "cell_type": "markdown",
   "metadata": {},
   "source": [
    "## Custom feature map for SVM Classifier in Aqua\n",
    "\n",
    "The key part of quantum SVM, the kernel that really distinguish it from classical SVM kernels (such as Gaussian or Polynomial Kernels), is the quantum feature map used to map data on a high dimensional, hard to classicaly simulate, Hilbert space. Havlicek *et al*. proposed two strategies to design quantum SVM. Remarkably for both strategies, namely Quantum Kernel Estimator and Quantum Variational Classifier, the quantum feature map used is the part of the algorithm that will have the most impact, as it's the part of the circuit which encodes the data.\n",
    "\n",
    "For Havlicek *et al*.:  https://www.nature.com/articles/s41586-019-0980-2 or https://arxiv.org/pdf/1804.11326.pdf"
   ]
  },
  {
   "cell_type": "markdown",
   "metadata": {},
   "source": [
    "In Qiskit Aqua, lots of options are available to customize the way the feature map is built. There is four main parameters which we can try to fine tune and use normal model selection methods on: the depth, the map function, the gate set and the order of expansion.\n",
    "\n",
    "#### The feature map in details\n",
    "\n",
    "To understand what influence we can have on the feature map, we must firstly present it in more details.\n",
    "\n"
   ]
  },
  {
   "cell_type": "markdown",
   "metadata": {},
   "source": [
    "Feature map aims to non-linearly map classical datum **x** to a quantum state $|\\Phi(x)><\\Phi(x)|$, a vector in the Hilbert space of  density matrix. Support-vector machine classifiers (SVM) allow to find a hyperplane separating each vector $|\\Phi(x_i)><\\Phi(x_i)|$ depending on their label, supported by a reduced amount of vectors (the so-called support vectors). A key element of the feature map is not only the use of quantum state space as a feature space but also the way data are mapped into this high dimensional space.  "
   ]
  },
  {
   "cell_type": "markdown",
   "metadata": {},
   "source": [
    "We want a complex feature map (to let data be easily separable after their mapping), but also short enough to be implementable on a real quantum computer. The authors of the paper proposed a family of feature maps which is supposed to be both complex and short.\n",
    "\n",
    "$$ |\\Phi(x)>=\\prod_d U_{\\Phi(x)}H^n,\\ U_{\\Phi(x)}=\\exp(i\\sum_{S\\subseteq[1,n]}\\phi_S(x)\\prod_{k\\in S} P_k) $$"
   ]
  },
  {
   "cell_type": "markdown",
   "metadata": {},
   "source": [
    "Here $x$ is one datum, and $n$ the number of qubits. We note $d$ the number of repeated circuit (the paper uses $d=2$ for their implementation), $\\phi(x)$ the map function that will create non-linearity in the data, and $P_k$ the Pauli gates used ($P_k$ means the gate $P$ is applied on the qubit $k$). These three parameters ($d$, $\\phi(x)$ and $P_k$) are mutable for both classification algorithms (Variational and SVM Classifier) in Aqua. The depth $d$ is highly recommended to stay $d=2$, because it is a good compromise between complexity (it is conjectured to be classicaly hard to simulate with the parameters of the paper), and length (decoherence is not an issue with only $d=2$ because it make a circuit only 10 gates long for this part, with the default settings).\n",
    "<img src=\"images/uphi.PNG\" width=\"400\" />"
   ]
  },
  {
   "cell_type": "markdown",
   "metadata": {},
   "source": [
    "The size of $S$ can be controled too, and in Aqua it is kept at $|S|\\leq 2$ by default, but can be increased. The greater the upper bound the more interactions will be taken in count. We call $r$-th order expansion the feature map of this family when $|S|\\leq r$. So, by default, second order expansion is used, just like in the Havlicek *et al.* paper. This gives $n$ singeltons $S=\\{i\\}$, and, depending on the connectivity of the computer, up to $\\frac{n(n-1)}{2}$ couples to encode non-linear interactions. In reality, the connectivity in a quantum computer is never complete, but it will be largely enough to encode all the interactions we want."
   ]
  },
  {
   "cell_type": "markdown",
   "metadata": {},
   "source": [
    "Then, we have the set of Pauli gates we want to use. In the article, only $Z$ gates are used, because it's simpler but other gates will give similar results."
   ]
  },
  {
   "cell_type": "markdown",
   "metadata": {},
   "source": [
    "#### Programming the feature map\n",
    "\n",
    "We will now see how to modify these four parameters (depth, data map, gate set and expansion order) in Aqua. There is two default settings, easily configurable, which allow modifications of the depth and data map, but not the gate set: `FirstOrderExpansion` and `SecondOrderExpansion`. To test them and see how they work, we need to have data."
   ]
  },
  {
   "cell_type": "code",
   "execution_count": null,
   "metadata": {},
   "outputs": [],
   "source": [
    "import numpy as np\n",
    "import matplotlib.pyplot as plt\n",
    "from qiskit import Aer, BasicAer\n",
    "from qiskit_aqua.input import SVMInput\n",
    "from qiskit_aqua import run_algorithm, QuantumInstance\n",
    "from qiskit_aqua.algorithms import QSVMVariational\n",
    "from qiskit_aqua.components.optimizers import SPSA\n",
    "from qiskit_aqua.components.feature_maps import SecondOrderExpansion, FirstOrderExpansion, PauliExpansion\n",
    "from qiskit_aqua.components.variational_forms import RYRZ\n",
    "from sklearn import datasets\n",
    "import random as r"
   ]
  },
  {
   "cell_type": "code",
   "execution_count": null,
   "metadata": {},
   "outputs": [],
   "source": [
    "#We use random data from the famous iris set.\n",
    "#We don't want all the data so we take 40 samples, 20 for learning and 20 for testing\n",
    "def data(feature_dim):\n",
    "    iris = datasets.load_iris()\n",
    "    X = iris.data[:, :feature_dim]\n",
    "    label = iris.target\n",
    "    m = len(X)\n",
    "    random_ind = [i for i in range(m)]\n",
    "    r.shuffle(random_ind)\n",
    "    training_ind = random_ind[:20]\n",
    "    test_ind = random_ind[20:40]\n",
    "    training_input = {'-1': [X[i] for i in training_ind if label[i]<1],\n",
    "                      '1': [X[i] for i in training_ind if label[i]>=1]}\n",
    "    test_input = {'-1': [X[i] for i in test_ind if label[i]<1],\n",
    "                  '1': [X[i] for i in test_ind if label[i]>=1]}\n",
    "    return training_input, test_input"
   ]
  },
  {
   "cell_type": "code",
   "execution_count": null,
   "metadata": {},
   "outputs": [],
   "source": [
    "feature_dim = 2\n",
    "X, Y = data(feature_dim)"
   ]
  },
  {
   "cell_type": "markdown",
   "metadata": {},
   "source": [
    "With the data, we will use the Variational Classifier to test the feature map with the same parameters as the article. So, it's a second order expansion, of depth 2, using only $Z$ gates, and with the default data map, a full connectivity (qubit 0 is linked to qubit 1)."
   ]
  },
  {
   "cell_type": "code",
   "execution_count": null,
   "metadata": {},
   "outputs": [],
   "source": [
    "shots = 1024\n",
    "random_seed = 10598\n",
    "\n",
    "# We use the simulator\n",
    "backend = BasicAer.get_backend('qasm_simulator')\n",
    "# This is the SPSA optimizer used in the article\n",
    "optimizer = SPSA(max_trials=100, c0=4.0, skip_calibration=True)\n",
    "optimizer.set_options(save_steps=1)\n",
    "# This is the form of the Variational circuit that will be trained.\n",
    "# It is put in the circuit after the feature map part\n",
    "var_form = RYRZ(num_qubits=feature_dim, depth=3)\n",
    "quantum_instance = QuantumInstance(backend, shots=shots, seed=random_seed, seed_mapper=random_seed)"
   ]
  },
  {
   "cell_type": "code",
   "execution_count": null,
   "metadata": {},
   "outputs": [],
   "source": [
    "# We generate the feature map\n",
    "feature_map = SecondOrderExpansion(num_qubits=feature_dim, depth=2)\n",
    "# And run the Variational Classifier, and test it\n",
    "svm = QSVMVariational(optimizer, feature_map, var_form, X, Y)\n",
    "result = svm.run(quantum_instance)\n",
    "print(\"testing success ratio: \", result['testing_accuracy'])"
   ]
  },
  {
   "cell_type": "markdown",
   "metadata": {},
   "source": [
    "Here we have used the `SecondOrderExpansion` feature map, so $|S|\\leq2$. It takes the number of qubits used (same dimension as the data), the depth (number of repetition of $U_{\\Phi(x)}H^n$ in the circuit), an entangler map to encode the connectivity of the computer (default is `entangler_map=None`, meaning we will use a pre-computed connectivity graph according to the next parameter), a string parameter called `entanglement`, either `'full'` or `'linear'` to generate connectivity if it isn't provided in `entangler_map` (default value is `'full'`, meaning it will consider the connectivity graph to be complete and consider all $\\frac{n(n-1)}{2}$ interactions) and the data map $\\phi_S(x)$ which will make non-linear connections in data (default value is  `data_map_func=self_product`, where `self_product` represents $\\phi_S:x\\mapsto \\{\\begin{array}{ll}\n",
    "    x_i & \\mbox{if}\\ S=\\{i\\} \\\\\n",
    "        (\\pi-x_i)(\\pi-x_j) & \\mbox{if}\\ S=\\{i,j\\}\n",
    "    \\end{array}$).\n",
    "    \n",
    "So, even with these two feature maps one can have a lot of possibilities. We can make the feature map deeper or shorter (too deep won't have good results on real quantum computers, too short is useless because normal computer can simulate the same Kernel), we can encode the connectivity of the computer we use, and we can choose the function used to encode the data in the circuit. \n",
    "\n",
    "The `FirstOrderExpansion` feature map forces $|S|=1$, so there is no interaction between features of the data encoded in the circuit, and no entanglement (the $e^{i \\phi_{\\{0,1\\}}(x)Z_0 Z_1}$ gate used in the paper, corresponding to the second order of expansion). So, naturally it will be weaker, but shorter, which is good for a real quantum device."
   ]
  },
  {
   "cell_type": "code",
   "execution_count": null,
   "metadata": {},
   "outputs": [],
   "source": [
    "feature_map = FirstOrderExpansion(num_qubits=feature_dim, depth=2)\n",
    "svm = QSVMVariational(optimizer, feature_map, var_form, X, Y)\n",
    "result = svm.run(quantum_instance)\n",
    "print(\"testing success ratio: \", result['testing_accuracy'])"
   ]
  },
  {
   "cell_type": "markdown",
   "metadata": {},
   "source": [
    "We see here it gives better results, because the dataset is simple to separate, so a simpler model will have less issues (less overfitting for example). So this is important not to consider \"the greater the order of expansion, the better\", but to do actual model selection just like any other machine learning algorithm. \n",
    "\n",
    "As said before, we can also change the data map (the function $\\phi_S$), just by defining a new map, and provide a custom entangler map by describing, in a dictionary, the graph of connections between qubits."
   ]
  },
  {
   "cell_type": "code",
   "execution_count": null,
   "metadata": {},
   "outputs": [],
   "source": [
    "def custom_map(x):\n",
    "    \"\"\"A random, probably inefficient custom map\"\"\"\n",
    "    if len(x) == 1:\n",
    "        return x[0] \n",
    "    coeff = 1\n",
    "    for xi in x:\n",
    "        coeff *= 0.5*(2*np.pi-xi)\n",
    "    return coeff\n",
    "\n",
    "# The entangler map is a dictionary,\n",
    "# keys are source qubit index (int),\n",
    "# values are array of target qubit index(es) (int)\n",
    "\n",
    "entangler = {0:[1]} # qubit 0 linked to qubit 1 (double entanglement are not used, so no 1:[0])"
   ]
  },
  {
   "cell_type": "code",
   "execution_count": null,
   "metadata": {},
   "outputs": [],
   "source": [
    "# Here we use all available parameters for the simple feature maps\n",
    "# (entanglement='full' won't be used because we provide entangler_map)\n",
    "\n",
    "feature_map = SecondOrderExpansion(num_qubits=feature_dim,\n",
    "                                   depth=2,\n",
    "                                   data_map_func=custom_map,\n",
    "                                   entangler_map = entangler)\n",
    "svm = QSVMVariational(optimizer, feature_map, var_form, X, Y)\n",
    "result = svm.run(quantum_instance)\n",
    "print(\"testing success ratio: \", result['testing_accuracy'])"
   ]
  },
  {
   "cell_type": "markdown",
   "metadata": {},
   "source": [
    "#### The PauliExpansion class for total control\n",
    "\n",
    "For some applications, we could want to change the set of Pauli gates used, to have more flexibility, instead of using $Z$ gates only. To do that, we can use the `PauliExpansion` feature map. It has the same parameters as the other two (`depth`, `entangler_map`, `data_map_function`), but also have a `paulis` parameter to change the set.\n",
    "\n",
    "This parameter is a `list` of `string`, each representing the Pauli gate to use (more details in the code below). The default value for this parameter is `['Z', 'ZZ']`, which makes it behave exactly like `SecondOrderExpansion`."
   ]
  },
  {
   "cell_type": "code",
   "execution_count": null,
   "metadata": {},
   "outputs": [],
   "source": [
    "feature_map = PauliExpansion(num_qubits=feature_dim, depth=2)\n",
    "svm = QSVMVariational(optimizer, feature_map, var_form, X, Y)\n",
    "result = svm.run(quantum_instance)\n",
    "print(\"testing success ratio: \", result['testing_accuracy'])"
   ]
  },
  {
   "cell_type": "markdown",
   "metadata": {},
   "source": [
    "And here we test a total change of basis for the feature map, all gates used will be $Y$."
   ]
  },
  {
   "cell_type": "code",
   "execution_count": null,
   "metadata": {},
   "outputs": [],
   "source": [
    "feature_map = PauliExpansion(num_qubits=feature_dim, depth=2, paulis = ['Y','YY'])\n",
    "svm = QSVMVariational(optimizer, feature_map, var_form, X, Y)\n",
    "result = svm.run(quantum_instance)\n",
    "print(\"testing success ratio: \", result['testing_accuracy'])"
   ]
  },
  {
   "cell_type": "markdown",
   "metadata": {},
   "source": [
    "The way it will generate the map is for each `string` in `paulis`, if it's a single character (for example `'Z'`), it will add the corresponding gate (keeping the same order), for each qubit, and if it is like `'ZZ'`, it will entangle the two qubits for each pair available."
   ]
  },
  {
   "cell_type": "markdown",
   "metadata": {},
   "source": [
    "For example, with the parameter `paulis = ['Z', 'Y', 'ZZ']`, the circuit will look like this (this is the first depth, it's actually repeated $d$ times):\n",
    "<img src=\"images/depth1.PNG\" width=\"400\"/>\n",
    "\n",
    "It begins with $H^n$ as always. The $A$ and $B$ gates here are rotations parametrised by the result of $\\phi_S(x)$ (they are not $Y$ and $Z$ gates, but variants: $B = e^{i\\phi_{\\{i\\}}(x)Y_i}$ and $A = e^{i\\phi_{\\{i\\}}(x)Z_i}$, where $Y_i$ and $Z_i$ are the $Y$ and $Z$ gates applied on the qubit $i$). For the first columns of rotations (represented here by the first $A$ column and $B$ column), they will use the same values, respectively for each qubit $i$, $\\phi_{\\{i\\}}(x)=x_i$, and then the entangled $ZZ$ gate uses $\\phi_{\\{0,1\\}}(x)$ (the $A'=e^{i\\phi_{\\{i,j\\}}(x)Z_j}$ gate between the two controlled $X$).\n",
    "\n",
    "To compare, `paulis = ['Z', 'ZZ']` creates the same circuit without the $B$ gates. And `paulis = ['Z', 'YY']` makes a circuit with the same start ($H$ and $A$ gates on every qubits) and pursue with an entangled $YY$ gate.\n",
    "\n",
    "One should note that `PauliExpansion` allows third order or more expansions. For one example of third order expansion, one should try `paulis = ['Z', 'ZZ', 'ZZZ']`. If the data has enough features and the computer has enough qubits, it generates a feature map according to the previously mentioned rule, with $|S|\\leq 3$.\n",
    "\n",
    "With `PauliExpansion` class, any member of the feature map family $\\prod_d U_{\\Phi(x)}H^n,\\ U_{\\Phi(x)}=\\exp(i\\sum_{S\\subseteq[1,n]}\\phi_S(x)\\prod_{k\\in S} P_k) $ can be generated, using the depth $d$, the non-linear map function $\\phi_S(x)$, the expansion order $r,\\ |S|\\leq r$ and gate set $P_i, i\\leq n$ we want."
   ]
  },
  {
   "cell_type": "markdown",
   "metadata": {},
   "source": [
    "For example, we want to classify three-dimensional data, using a third order expansion, a custom data map, a depth of 2, and a $Y$ gate for non-interactive encoding of the data, in addition to the $Z$ gates."
   ]
  },
  {
   "cell_type": "code",
   "execution_count": null,
   "metadata": {},
   "outputs": [],
   "source": [
    "feature_dim = 3\n",
    "X, Y = data(feature_dim)"
   ]
  },
  {
   "cell_type": "code",
   "execution_count": null,
   "metadata": {},
   "outputs": [],
   "source": [
    "# The depth here has nothing to do with the depth of the feature map.\n",
    "# It's (more or less) the number of time the variational circuit will be repeated \n",
    "var_form = RYRZ(num_qubits=feature_dim, depth=3)"
   ]
  },
  {
   "cell_type": "code",
   "execution_count": null,
   "metadata": {},
   "outputs": [],
   "source": [
    "def custom_map(x):\n",
    "    \"\"\"An other random, probably inefficient custom map\"\"\"\n",
    "    if len(x) == 1:\n",
    "        return x[0] \n",
    "    coeff = 1\n",
    "    for xi in x:\n",
    "        coeff *= 0.8*(2*np.pi-xi)\n",
    "    return coeff"
   ]
  },
  {
   "cell_type": "code",
   "execution_count": null,
   "metadata": {},
   "outputs": [],
   "source": [
    "feature_map = PauliExpansion(num_qubits=feature_dim,\n",
    "                             depth=2,\n",
    "                             paulis = ['Y', 'Z', 'ZZ', 'ZZZ'],\n",
    "                             data_map_func = custom_map)\n",
    "svm = QSVMVariational(optimizer, feature_map, var_form, X, Y)\n",
    "result = svm.run(quantum_instance)\n",
    "print(\"testing success ratio: \", result['testing_accuracy'])"
   ]
  },
  {
   "cell_type": "markdown",
   "metadata": {},
   "source": [
    "Because the connectivity is `'full'` by default, it will add a (parametrised by $\\phi_{\\{i\\}}(x)$) $B$ gate on each qubit, then a (parametrised by $\\phi_{\\{i\\}}(x)$) $A$ gate, then three $ZZ$ gates (one for each pair $(0,1),\\ (1,2),\\ (0,2)$), and a final $ZZZ$ gate $e^{i\\phi_{\\{0,1,2 \\}}(x)Z_0Z_1Z_2} $. It can have really poor results on this set again because it's like using a sledgehammer to crack a nut, it works too well. But it could be beneficial in harder classification cases."
   ]
  },
  {
   "cell_type": "markdown",
   "metadata": {},
   "source": [
    "#### Conclusion\n",
    "\n",
    "We can generate all members of the feature map family presented in the article in Aqua, using the `PauliExpansion` class. But it should always be accompanied by a good model selection method to avoid any issues by using too complex models."
   ]
  }
 ],
 "metadata": {
  "kernelspec": {
   "display_name": "Python 3",
   "language": "python",
   "name": "python3"
  },
  "language_info": {
   "codemirror_mode": {
    "name": "ipython",
    "version": 3
   },
   "file_extension": ".py",
   "mimetype": "text/x-python",
   "name": "python",
   "nbconvert_exporter": "python",
   "pygments_lexer": "ipython3",
   "version": "3.7.2"
  }
 },
 "nbformat": 4,
 "nbformat_minor": 2
}
