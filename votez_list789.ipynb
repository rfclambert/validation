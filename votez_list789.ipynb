{
 "cells": [
  {
   "cell_type": "markdown",
   "metadata": {},
   "source": [
    "Nous allons commencer par vérifier que l'ordinateur quantique est universel en créant toutes les portes logiques de base ! \n",
    "Sachant que le processeur quantique à IBM n'utilise, à sa base, que les portes $U_1(\\lambda)$, $R_X(\\frac{\\pi}{2})$ et $CX$."
   ]
  },
  {
   "cell_type": "markdown",
   "metadata": {},
   "source": [
    "On a pu voir que le circuit quantique, comme une partition, se lisait de gauche à droite. La largeur totale du circuit donne le temps total d'exécution, qu'il est primordial de réduire sur nos ordinateurs actuels incapables d'exécuter correctement des algorithmes trop longs.\n",
    "\n",
    "<img src=\"images/exemple.PNG\" width=\"300\">\n",
    "\n",
    "Cependant, même si l'on voit les choses un peu différemment qu'en algorithmique normale, on peut tout à fait tout construire ! On peut voir les différentes portes logiques de base. \n",
    "\n",
    "$$F_N = \\frac{1}{\\sqrt{N}} \\begin{bmatrix}\n",
    "1&1&1&1&\\cdots &1 \\\\\n",
    "1&\\omega_n&\\omega_n^2&\\omega_n^3&\\cdots&\\omega_n^{N-1} \\\\\n",
    "1&\\omega_n^2&\\omega_n^4&\\omega_n^6&\\cdots&\\omega_n^{2(N-1)}\\\\ 1&\\omega_n^3&\\omega_n^6&\\omega_n^9&\\cdots&\\omega_n^{3(N-1)}\\\\\n",
    "\\vdots&\\vdots&\\vdots&\\vdots&&\\vdots\\\\\n",
    "1&\\omega_n^{N-1}&\\omega_n^{2(N-1)}&\\omega_n^{3(N-1)}&\\cdots&\\omega_n^{(N-1)(N-1)}\n",
    "\\end{bmatrix}.$$"
   ]
  },
  {
   "cell_type": "markdown",
   "metadata": {},
   "source": [
    "Le seul soucis qu'on a : un circuit quantique est représenté par une matrice très particulière, une matrice inversible telle que sa transposée conjuguée est son inverse (ici celle de la transformée de Fourier Quantique). Donc d'après les sorties d'un circuit, il doit toujours être possible de retrouver les entrées. \n",
    "\n",
    "<img src=\"images/and.png\" width=\"300\">\n",
    "\n",
    "Pas besoin d'avoir eu 20 en Archi pour savoir qu'en algorithmique classique, il est impossible de connaître les entrées d'un AND en connaissant uniquement sa sortie. \n",
    "\n",
    "On va passer assez vite en revue toutes les portes logiques de base pour se convaincre qu'un ordinateur quantique peut, au minimum, faire tout ce que fait un ordinateur classique, du moins théoriquement."
   ]
  },
  {
   "cell_type": "markdown",
   "metadata": {},
   "source": [
    "Le doublement de fil:\n",
    "<img src=\"images/cnot_off.PNG\" width=\"300\">\n",
    "<img src=\"images/CNOT_on.PNG\" width=\"300\">\n",
    "Le AND logique (avec trois entrées et trois sorties):\n",
    "<img src=\"images/And_off.PNG\" width=\"300\">\n",
    "<img src=\"images/And_on.PNG\" width=\"300\">\n",
    "Le OR logique (avec trois entrées et trois sorties):\n",
    "<img src=\"images/Or_off.PNG\" width=\"300\">\n",
    "\n",
    "On a donc bien, avec ces portes logiques, de quoi tout faire, sachant qu'on a aussi un NOT quantique. Cependant, les ordinateurs classiques font très bien leur travail, donc ce n’est pas très utile de programmer des algorithmes classiques dans un ordinateur quantique, mais certaines parties vont pouvoir servir. Le plus important, c'est de comprendre qu'on peut programmer n'importe quelle fonction calculable dans un ordinateur quantique, et ensuite utiliser ses propriétés particulières pour battre les algorithmes classiques. Une des propriétés intéressantes utilisable uniquement par un ordinateur quantique, c'est la superposition. Pour créer de la superposition. L'objectif, c'est de ne pas uniquement avoir en entrée de nos portes logiques uniquement des 0 ou des 1, mais bien les deux à la fois."
   ]
  },
  {
   "attachments": {},
   "cell_type": "markdown",
   "metadata": {},
   "source": [
    "C'est le fameux adage: Rotate (donc mettre en superposition), compute (faire un calcul classique en \"parallèle\"), rotate (jouer avec la superposition des $2^n$ résultats pour avoir un indice sur notre réponse finale). Puis on mesure."
   ]
  },
  {
   "cell_type": "markdown",
   "metadata": {},
   "source": [
    "<img src=\"images/super.PNG\" width=\"300\">"
   ]
  },
  {
   "cell_type": "markdown",
   "metadata": {},
   "source": [
    "Ici, on voit que les résultats ne sont plus tranchés, mais tout est clair, les deux portes $H$ en entrée des deux bits sur lesquels on va appliquer un OR logique sont mis en superposition. On a donc autant de chance, quand on va mesurer, de voir un 0 ou un 1. En revanche, le troisième Qubit, celui contenant la réponse a Q1 OR Q2, a 0.75 de probabilité d'être à 1, car il y a en tout 4 cas de figures : 00, 01, 10, 11, dont 3 donnent Q1 OR Q2 = 1. Donc 3 chances sur 4 d'être à 1 !\n",
    "\n",
    "Les entrées sont \"groupées\" par les sorties: on va l'écrire comme cela:\n",
    "$$|0>\\otimes \\sqrt{0.25}|00>+|1>\\otimes(\\sqrt{0.25}|10>+\\sqrt{0.25}|01>+\\sqrt{0.25}|11>)$$"
   ]
  },
  {
   "cell_type": "markdown",
   "metadata": {},
   "source": [
    "De nombreux algorithmes utilisant ce principe de superposition peuvent battre les algorithmes classiques. Nous allons en voir un assez simple : l'algorithme de récupération de la période d’une fonction de Simon. On suppose qu'on a une fonction périodique, mais dont on ignore la période. Ce n'est pas une fonction continue, c'est une fonction sur les entiers, par exemple. L'exemple que je vais prendre est la fonction $f : x\\mapsto 13x\\ [7]$. \n",
    "\n",
    "Pour une fonction modulaire comme ça, souvent le nombre de bit du modulo est vite trop grand pour espérer trouver la période."
   ]
  },
  {
   "cell_type": "markdown",
   "metadata": {},
   "source": [
    "Cependant, avec un algorithme quantique, on peut espérer trouver très facilement cette période, en n'évaluant la fonction qu'une poignée de fois, indépendamment de tout autre paramètre. Pour cela, on va supposer qu'on a un composant quantique qui prend en entrée un $X$ en binaire, et un registre de sortie, et renvoie, sans changer $X$, dans le registre de sortie, $f(X)=13X\\ [7]$"
   ]
  },
  {
   "cell_type": "markdown",
   "metadata": {},
   "source": [
    "Alors, comme on a un ordinateur quantique, on va pouvoir lui faire calculer beaucoup de $X$ à la fois ! \n",
    "<img src=\"images/superfx.PNG\" width=\"300\">"
   ]
  },
  {
   "cell_type": "markdown",
   "metadata": {},
   "source": [
    "Si on note $n$ le nombre de qubits assignés à $X$, on calcule donc en même temps toutes les valeurs de $f(0)$ à $f(2^n-1)$! Cela fait très vite beaucoup, car un seul qubit ajouté à $X$ multiplie par deux le nombre de test, le parallélisme quantique augmente exponentiellement avec le nombre de qubit !\n",
    "\n",
    "Cependant, comme on l'a dit, ce n'est pas du vrai parallélisme, car on n’a pas accès à tous les résultats, mais seulement un seul d'entre eux. Mais, avant la mesure, on a accès dans le registre de sortie à la superposition des résultats, donc tout est potentiellement encore là...\n",
    "\n",
    "Là, il faut commencer à réfléchir : si on suppose qu'on a pris assez de qubits pour $X$, de sorte que l'on ait plusieurs fois passé la période, la superposition va au final \"s'agréger\". De la même manière que tous les résultats du Q1 OR Q2 de tout à l'heure se sont rassemblés en 75% de 1 et 25% de 0 (donc que deux résultats possibles, pour 4 entrées différentes), ici, tous les $f(0),\\ f(L),\\dots,\\ f(kL)$ vont avoir le même résultat et être ensemble, pareil pour les $f(1),\\ f(1+L),\\dots,\\ f(1+kL)$ etc... Donc, si on avait accès, pour chaque groupe de même valeur de $f$, à tous les $X$ qui ont donné ce résultat...\n",
    "\n",
    "$$|f(0)>\\otimes(\\sum\\limits_{k=0,kL<N} |0+kL>)+|f(1)>\\otimes(\\sum\\limits_{k=0,1+kL<N} |1+kL>)+\\dots+|f(L-1)>\\otimes(\\sum\\limits_{k=0,L-1+kL<N} |L-1+kL>)$$\n"
   ]
  },
  {
   "cell_type": "markdown",
   "metadata": {},
   "source": [
    "Après mesure, on n'a plus que:\n",
    "$$|f(m)>\\otimes(\\sum\\limits_{k=0,m+kL<N} |m+kL>)$$"
   ]
  },
  {
   "cell_type": "markdown",
   "metadata": {},
   "source": [
    "On peut remarquer que ce qu'on a ici est presque comme un spectre. On a un pic de probabilité à $X_m$, puis un autre à $X_m+L$ etc... En faisant la transformée de Fourier inverse (Quantique), on va pouvoir mesurer, un multiple de $\\frac{2^n}{L}$! sachant qu'on connait $n$, on est presque à savoir $L$, il manque plus qu'un petit peu de chance. Car, même si cette fois, grâce à la transformée de Fourier qui ne fait que se concentrer sur les fréquences, la deuxième mesure (celle de la transformée de la superposition des X) va donc être indépendante de la première mesure (celle de Y), cela n'enlève pas le fait que l'on mesure un *multiple* de $\\frac{2^n}{L}$. Il faudra donc le faire plusieurs fois, jusqu'à ce que l'on puisse calculer un $pgcd$ correct."
   ]
  },
  {
   "cell_type": "markdown",
   "metadata": {},
   "source": [
    "<img src=\"images/Simon.PNG\" width=\"300\">"
   ]
  }
 ],
 "metadata": {
  "kernelspec": {
   "display_name": "Python 3",
   "language": "python",
   "name": "python3"
  },
  "language_info": {
   "codemirror_mode": {
    "name": "ipython",
    "version": 3
   },
   "file_extension": ".py",
   "mimetype": "text/x-python",
   "name": "python",
   "nbconvert_exporter": "python",
   "pygments_lexer": "ipython3",
   "version": "3.7.2"
  }
 },
 "nbformat": 4,
 "nbformat_minor": 2
}
