{
 "cells": [
  {
   "cell_type": "markdown",
   "metadata": {},
   "source": [
    "# Creating Custom Feature Maps in Qiskit Aqua for <br>Quantum Support Vector Machines\n"
   ]
  },
  {
   "cell_type": "markdown",
   "metadata": {},
   "source": [
    "Support vector machines (SVM) address the problem of supervised learning through the construction of a classifier. Havlicek *et al*. proposed two strategies to design a quantum SVM, namely the Quantum Kernel Estimator and the Quantum Variatonal Classifier. Both of these strategies use data that is provided classically and encodes it in the quantum state space through a quantum feature map.[1] The choice of which feature map to use is important and may depend on the given dataset we want to classify. In this tutorial, we show how to configure new feature maps in Aqua and explore their impact on the accuracy of the quantum classifier.\n",
    "\n",
    "[1] Havlicek _et al_.  Nature **567**, 209-212 (2019). https://www.nature.com/articles/s41586-019-0980-2, https://arxiv.org/abs/1804.11326\n",
    "\n",
    "Aqua provides several options for customizing the quantum feature map. In particular, there are four main parameters that can be used for model selection: the circuit depth, the data map function, the quantum gate set and the order of expansion. We will go through each of these parameters in this tutorial, but before getting started, let us review the main concepts of the quantum feature map discussed in [1].\n"
   ]
  },
  {
   "cell_type": "markdown",
   "metadata": {},
   "source": [
    "### Review of the Quantum Feature Map\n"
   ]
  },
  {
   "cell_type": "markdown",
   "metadata": {},
   "source": [
    "A quantum feature map nonlinearly maps classical datum **x** to a quantum state $|\\Phi(\\mathbf{x})\\rangle\\langle\\Phi(\\mathbf{x})|$, a vector in the Hilbert space of density matrices. Support vector machine classifiers find a hyperplane separating each vector $|\\Phi(\\mathbf{x}_i)\\rangle\\langle\\Phi(\\mathbf{x}_i)|$ depending on their label, supported by a reduced amount of vectors (the so-called support vectors). A key element of the feature map is not only the use of quantum state space as a feature space but also the way data are mapped into this high dimensional space.\n",
    "\n",
    "Constructing feature maps based on quantum circuits that are hard to simulate classically is an important steps towards obtaining a quantum advantage over classical approaches. The authors of [1] proposed a family of feature maps that is conjectured to be hard to simulate classically and that can be implemented as short-depth circuits on near-term quantum devices.\n",
    "\n",
    "$$ \\mathcal{U}_{\\Phi(\\mathbf{x})}=\\prod_d U_{\\Phi(\\mathbf{x})}H^{\\otimes n},\\ U_{\\Phi(\\mathbf{x})}=\\exp\\left(i\\sum_{S\\subseteq[1,n]}\\phi_S(\\mathbf{x})\\prod_{k\\in S} P_k\\right) $$\n",
    "\n",
    "The number of qubits $n$ in the quantum circuit is equal to the dimensionality of the classical data $\\mathbf{x}$, which are encoded through the coefficients $\\phi_S(\\mathbf{x})$. The quantum circuit is composed of $d$ repeated layers of Hadamard gates interleaved with entangling blocks, which are expressed in terms of the Pauli gates $P_k \\in \\{\\mathbb{1}_k, X_k, Y_k, Z_k \\}$. The parameters $d$, $\\phi_S$ and $P_k$ are mutable for both classification algorithms (Quantum Variational Classifier and Quantum Kernel Estimator) in Aqua. We note that the depth $d=1$ circuit considered in [1] can be efficiently simulated classically by uniform sampling, while the $d=2$ variant is conjectured to be hard to simulate classically.\n",
    "\n",
    "<img src=\"images/uphi.PNG\" width=\"400\" />\n",
    "\n",
    "The size of $S$ can be controled as well. We call the $r$-th order expansion, the feature map of this circuit family when $|S|\\leq r$. In Aqua, the default is the second order expansion $|S|\\leq 2$ used in [1], but can be increased. The greater the upper bound the more interactions will be taken into account. This gives $n$ singeltons $S=\\{i\\}$, and, depending on the connectivity graph of the quantum device, up to $\\frac{n(n-1)}{2}$ couples to encode non-linear interactions.\n",
    "\n",
    "Finally, we have a choice of the set of Pauli gates to use. Only contributions from $Z$ and $ZZ$ gates are considered in [1], as the corresponding $U_{\\Phi(\\mathbf{\\mathbf{x}})}$ can be implemented efficiently, which is important for applications on NISQ devices."
   ]
  },
  {
   "cell_type": "markdown",
   "metadata": {},
   "source": [
    "### Programming the Quantum Feature Map\n",
    "\n",
    "We will now see how to modify these four parameters (circuit depth, data map function, quantum gate set and expansion order) in Aqua. Documentation on the quantum feature maps can be found at https://qiskit.org/documentation/aqua/feature_maps.html. Two of the provided feature maps, `FirstOrderExpansion` and `SecondOrderExpansion`, allow modification of the depth and data map function, but not the quantum gate set. To configure and compare different feature maps, we will use synthetic data from `qsvm_datasets.py` that was generated by the `SecondOrderExpansion` feature map with default settings. As a result, we expect high classification accuracy when training the model with this same feature map. \n"
   ]
  },
  {
   "cell_type": "code",
   "execution_count": 42,
   "metadata": {},
   "outputs": [],
   "source": [
    "import numpy as np\n",
    "import matplotlib.pyplot as plt\n",
    "import functools\n",
    "\n",
    "from qiskit import BasicAer\n",
    "from qiskit_aqua import run_algorithm, QuantumInstance\n",
    "from qiskit_aqua.components.feature_maps import SecondOrderExpansion, FirstOrderExpansion, PauliExpansion, self_product\n",
    "from qiskit_aqua.algorithms import QSVMKernel\n",
    "from qsvm_datasets import *"
   ]
  },
  {
   "cell_type": "code",
   "execution_count": 54,
   "metadata": {},
   "outputs": [],
   "source": [
    "# Generate synthetic training and test sets from the SecondOrderExpansion quantum feature map\n",
    "feature_dim = 2\n",
    "sample_Total, training_dataset, test_dataset, class_labels = ad_hoc_data(training_size=20, test_size=10,\n",
    "                                                                         n=feature_dim, gap=0.3,\n",
    "                                                                         PLOT_DATA=False)\n",
    "\n",
    "# Using the statevector simulator\n",
    "backend = BasicAer.get_backend('statevector_simulator')\n",
    "random_seed = 10598\n",
    "\n",
    "quantum_instance = QuantumInstance(backend, seed=random_seed, seed_mapper=random_seed)"
   ]
  },
  {
   "cell_type": "markdown",
   "metadata": {},
   "source": [
    "With this synthetic data, we will use the Quantum Kernel Estimator to test different feature maps. The first feature map we will test is the first order expansion, with circuit depth $d=2$, the default data map (discussed below), and a full connectivity graph. From there, we will explore more complex feature maps with higher order and nondiagonal expansions and custom functions to map the classical data."
   ]
  },
  {
   "cell_type": "markdown",
   "metadata": {},
   "source": [
    "#### 1. First Order Diagonal Expansion\n",
    "\n"
   ]
  },
  {
   "cell_type": "markdown",
   "metadata": {},
   "source": [
    "A first order diagonal expansion is implemented with the `FirstOrderExpansion` feature map where $|S|=1$. The resulting circuit contains no interactions between features of the encoded data, and no entanglement. The feature map can take the following inputs:\n",
    "\n",
    "- Number of qubits `num_qubits`: equal to the dimensionality of the classical data, \n",
    "- Circuit depth $d$, `depth`: number of times to repeat the circuit \n",
    "- Entangler map to encode qubit connectivity: default is `entangler_map=None`, meaning we will use a pre-computed connectivity graph according to the next parameter \n",
    "- String parameter called `entanglement` with options `'full'` or `'linear'` to generate connectivity if it isn't provided in `entangler_map`: default value is `'full'`, meaning it will consider the connectivity graph to be complete and consider all $\\frac{n(n-1)}{2}$ interactions\n",
    "- Data map $\\phi_S(\\mathbf{x})$ that can encode non-linear connections in data: default form is  `data_map_func=self_product`, where `self_product` represents \n",
    "\n",
    "$$\\phi_S:x\\mapsto \\Bigg\\{\\begin{array}{ll}\n",
    "    x_i & \\mbox{if}\\ S=\\{i\\} \\\\\n",
    "        (\\pi-x_i)(\\pi-x_j) & \\mbox{if}\\ S=\\{i,j\\}\n",
    "    \\end{array}$$.\n",
    "\n",
    "\n",
    "While the connectivity graph is not specified for the separable `FirstOrderExpansion` feature map, it will be important for nonseparable cases such as `SecondOrderExpansion`."
   ]
  },
  {
   "cell_type": "code",
   "execution_count": 44,
   "metadata": {},
   "outputs": [
    {
     "name": "stdout",
     "output_type": "stream",
     "text": [
      "testing success ratio:  0.7\n"
     ]
    }
   ],
   "source": [
    "# Generate the feature map\n",
    "feature_map = FirstOrderExpansion(num_qubits=feature_dim, depth=2)\n",
    "\n",
    "# Run the Quantum Kernel Estimator and classify the test data\n",
    "qsvm = QSVMKernel(feature_map=feature_map, training_dataset=training_dataset, test_dataset=test_dataset)\n",
    "\n",
    "result = qsvm.run(quantum_instance)\n",
    "print(\"testing success ratio: \", result['testing_accuracy'])"
   ]
  },
  {
   "cell_type": "markdown",
   "metadata": {},
   "source": [
    "We see that this feature map yields poor classification accuracy on data generated to be separable by the second order expansion."
   ]
  },
  {
   "cell_type": "markdown",
   "metadata": {},
   "source": [
    "#### 2. Second Order Diagonal Expansion\n",
    "\n",
    "The `SecondOrderExpansion` feature map allows $|S|\\leq2$, so interactions in the data will be encoded in the feature map, according to the connectivity graph and the classical data map. This option with default parameters is equivalent to the feature map described in [1]."
   ]
  },
  {
   "cell_type": "code",
   "execution_count": 45,
   "metadata": {},
   "outputs": [
    {
     "name": "stdout",
     "output_type": "stream",
     "text": [
      "testing success ratio:  1.0\n"
     ]
    }
   ],
   "source": [
    "feature_map = SecondOrderExpansion(num_qubits=feature_dim, depth=2)\n",
    "\n",
    "qsvm = QSVMKernel(feature_map=feature_map, training_dataset=training_dataset, test_dataset=test_dataset)\n",
    "\n",
    "result = qsvm.run(quantum_instance)\n",
    "print(\"testing success ratio: \", result['testing_accuracy'])"
   ]
  },
  {
   "cell_type": "markdown",
   "metadata": {},
   "source": [
    "As expected, the second order feature map yields high test accuracy on this dataset."
   ]
  },
  {
   "cell_type": "markdown",
   "metadata": {},
   "source": [
    "#### 3. Second Order Diagonal Expansion with Custom Data Map\n",
    "\n",
    "Instead of using the default data map $\\phi_S(\\mathbf{x})$ in Aqua, we can encode the classical data using custom functions."
   ]
  },
  {
   "cell_type": "code",
   "execution_count": 27,
   "metadata": {},
   "outputs": [],
   "source": [
    "def custom_data_map_func(x):\n",
    "    \"\"\"\n",
    "    Define a function map from R^n to R.\n",
    "    Args:\n",
    "        x (np.ndarray): data\n",
    "    Returns:\n",
    "        double: the mapped value\n",
    "    \"\"\"\n",
    "    coeff = x[0] if len(x) == 1 else \\\n",
    "        functools.reduce(lambda m, n: m * n, np.sin(np.pi - x))\n",
    "    return coeff"
   ]
  },
  {
   "cell_type": "markdown",
   "metadata": {},
   "source": [
    "The custom data map we created now represents the function \n",
    "$$\\phi_S:x\\mapsto \\Bigg\\{\\begin{array}{ll}\n",
    "    x_i & \\mbox{if}\\ S=\\{i\\} \\\\\n",
    "        \\sin(\\pi-x_i)\\sin(\\pi-x_j) & \\mbox{if}\\ S=\\{i,j\\}\n",
    "    \\end{array}$$.\n",
    "\n",
    "Let us now test this custom data map, defined in `custom_data_map.py`, on the synthetic dataset."
   ]
  },
  {
   "cell_type": "code",
   "execution_count": 47,
   "metadata": {},
   "outputs": [
    {
     "name": "stdout",
     "output_type": "stream",
     "text": [
      "testing success ratio:  0.6\n"
     ]
    }
   ],
   "source": [
    "from custom_data_map import custom_data_map_func\n",
    "\n",
    "# entangler_map is a dictionary with source qubit index as keys and arrays of target qubit indices as values\n",
    "entangler_map = {0:[1]} # qubit 0 linked to qubit 1\n",
    "\n",
    "feature_map = SecondOrderExpansion(num_qubits=feature_dim, depth=2,\n",
    "                                   data_map_func=custom_data_map_func,\n",
    "                                   entangler_map=entangler_map)\n",
    "\n",
    "qsvm = QSVMKernel(feature_map=feature_map, training_dataset=training_dataset, test_dataset=test_dataset)\n",
    "\n",
    "result = qsvm.run(quantum_instance)\n",
    "print(\"testing success ratio: \", result['testing_accuracy'])"
   ]
  },
  {
   "cell_type": "markdown",
   "metadata": {},
   "source": [
    "We see that this choice for the data map function reduced the accuracy of the model."
   ]
  },
  {
   "cell_type": "markdown",
   "metadata": {},
   "source": [
    "#### 4. Second Order Pauli Expansion\n"
   ]
  },
  {
   "cell_type": "markdown",
   "metadata": {},
   "source": [
    "For some applications, we may want to consider a more general form of the feature map. One way to generalize is to use `PauliExpansion` and specify a set of specific Pauli gates instead of only $Z$ gates. This feature map has the same parameters as `FirstOrderExpansion` and `SecondOrderExpansion` (namely, `depth`, `entangler_map`, `data_map_function`) and an additional `paulis` parameter to change the gate set. This parameter is a list of strings, each representing the desired Pauli gate. The default value is `['Z', 'ZZ']`, which is equivalent to `SecondOrderExpansion`.\n",
    "\n",
    "\n",
    "Each string in `paulis` is implemented one at a time. A single character, for example `'Z'`, is implemented with one layer of single-qubit gates, while terms such as `'ZZ'` or `'XY'` are implemented with one layer of corresponding two-qubit entangling gates for each qubit pair available.\n",
    "\n",
    "For example, the choice `paulis = ['Z', 'Y', 'ZZ']` generates a quantum feature map of the form \n",
    "\n",
    "$$\\mathcal{U}_{\\Phi(\\mathbf{x})} = \\left( \\exp\\left(i\\sum_{jk} \\phi_{\\{j,k\\}}(\\mathbf{x}) Z_j \\otimes Z_k\\right) \\, \\exp\\left(i\\sum_{j} \\phi_{\\{j\\}}(\\mathbf{x}) Y_j\\right) \\, \\exp\\left(i\\sum_j \\phi_{\\{j\\}}(\\mathbf{x}) Z_j\\right) \\, H^{\\otimes n} \\right)^d.$$ \n",
    "\n",
    "The depth $d=1$ version of this quantum circuit is shown below\n",
    "\n",
    "<br>\n",
    "<img src=\"images/depth1.PNG\" width=\"400\"/>\n",
    "<br>\n",
    "\n",
    "The circuit begins with a layer of Hadamard gates $H^{\\otimes n}$, followed by a layer of $A$ gates and a layer of $B$ gates. The $A$ and $B$ gates are single-qubit rotations by the same set of angles $\\phi_{\\{j\\}}(\\mathbf{x})$ but around different axes: $B = e^{i\\phi_{\\{j\\}}(\\mathbf{x})Y_j}$ and $A = e^{i\\phi_{\\{j\\}}(\\mathbf{x})Z_j}$. The entangling $ZZ$ gate $e^{i \\phi_{\\{0,1\\}}(\\mathbf{x}) Z_0 Z_1}$ is parametrized by an angle $\\phi_{\\{0,1\\}}(\\mathbf{x})$ and can be implemented using two controlled-NOT gates and one $A'=e^{i\\phi_{\\{0,1\\}}(x)Z_1}$ gate as shown in the figure.\n",
    "\n",
    "As a comparison, `paulis = ['Z', 'ZZ']` creates the same circuit as above but without the $B$ gates, while `paulis = ['Z', 'YY']` creates a circuit with a layer of $A$ gates followed by a layer of entangling $YY$ gates.\n",
    "\n",
    "Below, we test the `PauliExpansion` with `paulis=['Z', 'Y', 'ZZ']`. We don't expect good test accuracy with this model since this dataset was created to be separable by the `SecondOrderExpansion` feature map."
   ]
  },
  {
   "cell_type": "code",
   "execution_count": 48,
   "metadata": {},
   "outputs": [
    {
     "name": "stdout",
     "output_type": "stream",
     "text": [
      "testing success ratio:  0.55\n"
     ]
    }
   ],
   "source": [
    "feature_map = PauliExpansion(num_qubits=feature_dim, depth=2, paulis = ['Z','Y','ZZ'])\n",
    "\n",
    "qsvm = QSVMKernel(feature_map=feature_map, training_dataset=training_dataset, test_dataset=test_dataset)\n",
    "\n",
    "result = qsvm.run(quantum_instance)\n",
    "print(\"testing success ratio: \", result['testing_accuracy'])"
   ]
  },
  {
   "cell_type": "markdown",
   "metadata": {},
   "source": [
    "#### 5. Third Order Pauli Expansion with Custom Data Map\n",
    "\n",
    "One should note that `PauliExpansion` allows third order or more expansions, for example `paulis = ['Z', 'ZZ', 'ZZZ']`. Assuming the data has dimensionality of at least three and we have access to three qubits, this choice for `paulis` generates a feature map according to the previously mentioned rule, with $|S|\\leq 3$. \n",
    "\n",
    "For example, suppose we want to classify three-dimensional data using a third order expansion, a custom data map, and a circuit depth of 𝑑=2. We can do this with the following code in Aqua."
   ]
  },
  {
   "cell_type": "code",
   "execution_count": 51,
   "metadata": {},
   "outputs": [],
   "source": [
    "feature_dim = 3\n",
    "sample_Total_b, training_dataset_b, test_dataset_b, class_labels = ad_hoc_data(training_size=20, test_size=10, \n",
    "                                                                     n=feature_dim, gap=0.3, \n",
    "                                                                     PLOT_DATA=False)"
   ]
  },
  {
   "cell_type": "code",
   "execution_count": 52,
   "metadata": {},
   "outputs": [
    {
     "name": "stdout",
     "output_type": "stream",
     "text": [
      "testing success ratio:  0.6\n"
     ]
    }
   ],
   "source": [
    "feature_map = PauliExpansion(num_qubits=feature_dim, depth=2, paulis = ['Y','Z','ZZ','ZZZ'])\n",
    "\n",
    "qsvm = QSVMKernel(feature_map=feature_map, training_dataset=training_dataset_b, test_dataset=test_dataset_b)\n",
    "\n",
    "result = qsvm.run(quantum_instance)\n",
    "print(\"testing success ratio: \", result['testing_accuracy'])"
   ]
  },
  {
   "cell_type": "markdown",
   "metadata": {},
   "source": [
    "The qubit connectivity is `'full'` by default, so this circuit will contain a layer of $B$ gates parametrized by $\\phi_{\\{j\\}}(\\mathbf x)$, a layer of $A$ gates parametrized by $\\phi_{\\{j\\}}(\\mathbf x)$, three $ZZ$ entanglers, one for each pair of qubits $(0,1),\\ (1,2),\\ (0,2)$, and finally a $ZZZ$ entangler $e^{i\\phi_{\\{0,1,2 \\}}(x)Z_0Z_1Z_2}$. "
   ]
  },
  {
   "cell_type": "markdown",
   "metadata": {},
   "source": [
    "### Building New Feature Maps\n"
   ]
  },
  {
   "cell_type": "markdown",
   "metadata": {},
   "source": [
    "We saw how to generate feature maps from the circuit family described in [1]. To explore new circuit families, we can create a new class implementing the class `FeatureMap`, and its method `construct_circuit`. As long as our custom feature map class has a working constructor and implementation of the method `construct_circuit`, it will be pluggable in any Aqua component requiring a feature map.\n",
    "\n",
    "As an example, below we show a general custom feature map class, taking the circuit construction algorithm (the core of the feature map, the way it's generating the circuit), and a list of necessary arguments."
   ]
  },
  {
   "cell_type": "code",
   "execution_count": 29,
   "metadata": {},
   "outputs": [],
   "source": [
    "\"\"\"\n",
    "This module contains the definition of a base class for\n",
    "feature map. Several types of commonly used approaches.\n",
    "\"\"\"\n",
    "\n",
    "import numpy as np\n",
    "from inspect import signature\n",
    "import logging\n",
    "logger = logging.getLogger(__name__)\n",
    "\n",
    "from qiskit import QuantumCircuit, QuantumRegister\n",
    "from qiskit_aqua.components.feature_maps import FeatureMap\n",
    "\n",
    "class CustomExpansion(FeatureMap):\n",
    "    \"\"\"\n",
    "    Mapping data using a custom feature map.\n",
    "    \"\"\"\n",
    "\n",
    "    CONFIGURATION = {\n",
    "        'name': 'CustomExpansion',\n",
    "        'description': 'Custom expansion for feature map (any order)',\n",
    "        'input_schema': {\n",
    "            '$schema': 'http://json-schema.org/schema#',\n",
    "            'id': 'Custom_Expansion_schema',\n",
    "            'type': 'object',\n",
    "            'properties': {'feature_param': {'type': ['array']}},\n",
    "            'additionalProperties': False\n",
    "        }\n",
    "    }\n",
    "\n",
    "    def __init__(self, num_qubits, constructor_function, feature_param):\n",
    "        \"\"\"Constructor.\n",
    "\n",
    "        Args:\n",
    "            num_qubits (int): number of qubits\n",
    "            constructor_function (fun): a function that takes as parameters\n",
    "            a datum x, a QuantumRegister qr, a boolean inverse and\n",
    "            all other parameters needed from feature_param\n",
    "            feature_param (list): the list of parameters needed to generate\n",
    "            the circuit, that won't change depending on the data given\n",
    "            (such as the data map function or other).\n",
    "        \"\"\"\n",
    "        self.validate(locals())\n",
    "        super().__init__()\n",
    "        self._num_qubits = num_qubits\n",
    "        sig = signature(constructor_function)\n",
    "        if len(sig.parameters) != len(feature_param)+3:\n",
    "            raise ValueError(\"The constructor_function given don't match the parameters given.\\n\" +\n",
    "                             \"Make sure it takes, in this order, the datum x, the QuantumRegister qr, the Boolean\\n\" +\n",
    "                             \" inverse and all the parameters provided in feature_param\")\n",
    "        self._constructor_function = constructor_function\n",
    "        self._feature_param = feature_param\n",
    "    \n",
    "    def construct_circuit(self, x, qr=None, inverse=False):\n",
    "        \"\"\"\n",
    "        Construct the circuit based on given data and according to the function provided at instantiation.\n",
    "\n",
    "        Args:\n",
    "            x (numpy.ndarray): 1-D to-be-transformed data.\n",
    "            qr (QauntumRegister): the QuantumRegister object for the circuit, if None,\n",
    "                                  generate new registers with name q.\n",
    "            inverse (bool): whether or not to invert the circuit\n",
    "\n",
    "        Returns:\n",
    "            qc (QuantumCircuit): a quantum circuit to transform data x.\n",
    "        \"\"\"\n",
    "        if not isinstance(x, np.ndarray):\n",
    "            raise TypeError(\"x must be numpy array.\")\n",
    "        if x.ndim != 1:\n",
    "            raise ValueError(\"x must be 1-D array.\")\n",
    "        if x.shape[0] != self._num_qubits:\n",
    "            raise ValueError(\"number of qubits and data dimension must be the same.\")\n",
    "        if qr is None:\n",
    "            qr = QuantumRegister(self._num_qubits, name='q')\n",
    "        qc = self._constructor_function(x, qr, inverse, *self._feature_param)\n",
    "        return qc\n"
   ]
  },
  {
   "cell_type": "markdown",
   "metadata": {},
   "source": [
    "With this general class, we can use whatever rule we want to construct the circuit of our custom feature map. It can have the parameters we want, use the gates we want etc... We test it with a mock constructor function that creates a feature map consisting of successive layers of $R_X$ gates and $ZZ$ gates."
   ]
  },
  {
   "cell_type": "code",
   "execution_count": 41,
   "metadata": {},
   "outputs": [],
   "source": [
    "def constructor_function(x, qr, inverse=False, depth=2, entangler_map=None):\n",
    "    \"\"\"A mock constructor function to test the CustomExpansion class.\n",
    "    \n",
    "    Args:\n",
    "        x (numpy.ndarray): 1D to-be-transformed data\n",
    "        qr (QuantumRegister)\n",
    "        inverse (bool): whether or not to invert the circuit\n",
    "        depth (int): number of times to repeat circuit\n",
    "        entangler_map (dict): describe the connectivity of qubits\n",
    "    \n",
    "    Returns:\n",
    "        qc (QuantumCircuit): layers of Rx gates interleaved with ZZ gates\n",
    "    \"\"\"\n",
    "    \n",
    "    if entangler_map is None:\n",
    "        entangler_map = {i: [j for j in range(i, len(x)) if j != i] for i in range(len(x) - 1)}\n",
    "    \n",
    "    qc = QuantumCircuit(qr)\n",
    "\n",
    "    for _ in range(depth):\n",
    "        for i in range(len(x)):\n",
    "            qc.rx(x[i], qr[i])\n",
    "        for source in entangler_map:\n",
    "            for target in entangler_map[source]:\n",
    "                qc.cx(qr[source], qr[target])\n",
    "                qc.u1(x[source] * x[target], qr[target])\n",
    "                qc.cx(qr[source], qr[target])\n",
    "    return qc"
   ]
  },
  {
   "cell_type": "markdown",
   "metadata": {},
   "source": [
    "Below, we test our custom feature map on the synthetic dataset. Its parameters are `num_qubits`, our mock constructor function and a list containing the parameters. Now, using `feature_map` will create circuits using our constructor function, with the parameters given in the list."
   ]
  },
  {
   "cell_type": "code",
   "execution_count": 50,
   "metadata": {},
   "outputs": [
    {
     "name": "stdout",
     "output_type": "stream",
     "text": [
      "testing success ratio:  0.6\n"
     ]
    }
   ],
   "source": [
    "from custom_feature_map import CustomExpansion\n",
    "from mock_constructor import constructor_function\n",
    "\n",
    "feature_map = CustomExpansion(num_qubits=feature_dim, constructor_function=constructor_function, feature_param=[2,None])\n",
    "\n",
    "qsvm = QSVMKernel(feature_map=feature_map, training_dataset=training_input, test_dataset=test_input)\n",
    "\n",
    "result = qsvm.run(quantum_instance)\n",
    "print(\"testing success ratio: \", result['testing_accuracy'])"
   ]
  },
  {
   "cell_type": "markdown",
   "metadata": {},
   "source": [
    "Whether we want to use easily-configurable existing feature maps, or create entirely new custom feature maps within Aqua's pluggable interface, the tools available in Aqua enable users to further explore the applications of quantum support vector machines on near-term quantum devices."
   ]
  }
 ],
 "metadata": {
  "kernelspec": {
   "display_name": "Python 3",
   "language": "python",
   "name": "python3"
  },
  "language_info": {
   "codemirror_mode": {
    "name": "ipython",
    "version": 3
   },
   "file_extension": ".py",
   "mimetype": "text/x-python",
   "name": "python",
   "nbconvert_exporter": "python",
   "pygments_lexer": "ipython3",
   "version": "3.7.2"
  }
 },
 "nbformat": 4,
 "nbformat_minor": 2
}
