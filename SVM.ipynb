{
 "cells": [
  {
   "cell_type": "markdown",
   "metadata": {},
   "source": [
    "### Quick overview of the QSVM\n",
    "\n",
    "This is a quick implementation of the work done in [this paper](https://arxiv.org/abs/1804.11326). The article presents two ways to implement a SVM (Support Vector Machine) or SVM-like algorithm using (supposedly) classicaly hard to compute feature map. The authors did two different implementations: one using a variational approach (they optimize the parameters of a part of the circuit), and the other directly computing the kernel Gram matrix and test matrix.\n",
    "\n",
    "Here we will see both implementations, without any pretention to do anything perfectly optimized but still usable. For all tests we will use two-dimensional data (points on a plane), and so the code could be hard to generalize. But technically any data can be mapped the way the authors presented in the paper.\n",
    "\n",
    "\n",
    "#### Data generation\n",
    "\n",
    "Firstly, we want to be able to generate data that will serve as a test. The data would have to be separated by a hyperplan in the quantum state space (of density matrix, not directly the Hilbertian of state vectors), for us to be able to compare the hyperplan we found using variational or normal SVM to the real one. Furthermore, we can use this data to compare the method to SVM using classical kernels, to give an idea of the quantum advantage here.\n",
    "\n",
    "Firstly, we will create the functions that adds the different components to a given circuit, and use them to generate the data using a random hyperplan. The way this works is that we want to map normal data (points on a plane) to a quantum state, and then label the data using an hyperplane spliting the density matrix space in two. To do that, the authors used a quantum circuit divided in two main parts:\n",
    "\n",
    "The first part is the mapping circuit, encoding the data. It's composed of two steps, repeated two times. First, Hadamard on all qubits, then a diagonal gate depending on the data.\n",
    "<img src=\"images/uphi.PNG\" width=\"400\"/>\n",
    "\n",
    "It puts the qubits in the state $\\mathcal{U}_\\Phi(x)|0_n>=U_{\\Phi(x)}H_nU_{\\Phi(x)}H_n|0_n>$. The goal of this part is to encode the data a way classical algotithm will have trouble simulating. To do that, the authors proposed this version of the gate $=U_{\\Phi(x)}$:\n",
    "\n",
    "![uphi_details.PNG](images/uphi_details.PNG)\n",
    "\n",
    "Where the $\\phi$ gate are just rotations following this rule: $\\phi_i(x)=x_i$ and $\\phi_{i,j}(x) = (\\pi-x_i)(\\pi-x_j)$\n",
    "\n"
   ]
  },
  {
   "cell_type": "markdown",
   "metadata": {},
   "source": [
    "Then, now that the state is correctly mapped to a space hard to simulate, we will put it through a random 2-qubits gate $\\in SU(4)$. For this all we have to do is randomly pick 6 values, and put two 1-qubits $u_3$ (taking three parameters each). This will efficiently divide the state vector, and then we just have to map each value to $-1$ or $+1$ according to a function $f:\\{0,1\\}\\rightarrow \\{-1,1\\}$ (here we just chose a XOR, so both $00$ and $11$ map to $-1$). The final state (in density matrix notation), is now $<0_n|\\mathcal{U}_\\Phi(x)V^{*}fV\\mathcal{U}_\\Phi(x)|0_n>$. Sampling from this will give a value in $[-1,1]$ for a given $x$, and, given a threshold $\\Delta$, depending if it's above it or below $-\\Delta$, we label it either $1$ or $-1$."
   ]
  },
  {
   "cell_type": "code",
   "execution_count": 1,
   "metadata": {},
   "outputs": [],
   "source": [
    "import numpy as np\n",
    "import matplotlib.pyplot as plt\n",
    "from qiskit import IBMQ\n",
    "import random as r\n",
    "from qiskit import QuantumCircuit, ClassicalRegister, QuantumRegister\n",
    "from qiskit import execute\n",
    "from qiskit import BasicAer\n",
    "from qiskit.aqua.components.optimizers import SPSA\n",
    "from sklearn import svm, datasets"
   ]
  },
  {
   "cell_type": "code",
   "execution_count": 2,
   "metadata": {},
   "outputs": [],
   "source": [
    "IBMQ.load_accounts()"
   ]
  },
  {
   "cell_type": "code",
   "execution_count": 3,
   "metadata": {},
   "outputs": [],
   "source": [
    "def Uphi(circ, q, x, RegX):\n",
    "    \"\"\"Adds a Uphi(x) gate to circ at RegX. x and RegX must be of size 2 here\"\"\"\n",
    "    for reg in RegX:\n",
    "        circ.h(reg)\n",
    "    Phi = [x[0], x[1], (np.pi-x[0])*(np.pi-x[1])]\n",
    "    circ.u1(-2 * Phi[0], RegX[0])\n",
    "    circ.u1(-2 * Phi[1], RegX[1])\n",
    "    circ.cx(RegX[0], RegX[1])\n",
    "    circ.u1(-2 * Phi[2], RegX[1])\n",
    "    circ.cx(RegX[0], RegX[1])\n",
    "    for reg in RegX:\n",
    "        circ.h(reg)\n",
    "    circ.u1(-2 * Phi[0], RegX[0])\n",
    "    circ.u1(-2 * Phi[1], RegX[1])\n",
    "    circ.cx(RegX[0], RegX[1])\n",
    "    circ.u1(-2 * Phi[2], RegX[1])\n",
    "    circ.cx(RegX[0], RegX[1])\n",
    "    circ.barrier(q)\n",
    "    return 1\n",
    "\n",
    "def measure_direct(circ, reg, targ):\n",
    "    \"\"\"Returns circ with measures added on reg on each qbit index specified in targ\"\"\"\n",
    "    c = ClassicalRegister(len(targ), 'c')\n",
    "    meas = QuantumCircuit(reg, c)\n",
    "    for i in range(len(targ)):\n",
    "        meas.measure(targ[i], c[i])\n",
    "    return circ + meas\n",
    "\n",
    "def launch(n, circ):\n",
    "    \"\"\"Create a backend and launch circ n times on it\"\"\"\n",
    "    backend_sim = BasicAer.get_backend('qasm_simulator')\n",
    "    job_sim = execute(circ, backend_sim, shots=n)\n",
    "    result_sim = job_sim.result()\n",
    "    counts = result_sim.get_counts(circ)\n",
    "    return counts\n",
    "\n",
    "def generation(n, delta):\n",
    "    \"\"\"We want to generate data hard to learn for a classical machine learning algo.\n",
    "    We generate couples and then apply a map on it. Returns a list labeled -1,\n",
    "    an other labeled +1, and the two parameters sets used to generate the labels\"\"\"\n",
    "    # The list of -1 labeled data\n",
    "    N = []\n",
    "    # The list of 1 labeled data\n",
    "    P = []\n",
    "    # The two random SU(2) gates to form the SU(4) gate\n",
    "    V1 = [r.random() * np.pi, r.random() * 2 * np.pi, r.random() * 2 * np.pi]\n",
    "    V2 = [r.random() * np.pi, r.random() * 2 * np.pi, r.random() * 2 * np.pi]\n",
    "    # Just a number to see the advancement\n",
    "    bt = 0\n",
    "    print(\"Start of the generation, 0 postive label and 0 negative label...\")\n",
    "    while len(N) < n or len(P) < n:\n",
    "\n",
    "        bt += 1\n",
    "        if not bt%50:\n",
    "            print(\"Try number\", bt, \"Positive label: {}, Negative label: {}...\".format(len(P), len(N)))\n",
    "\n",
    "        # We take a random point\n",
    "        x = (r.random() * 2 * np.pi, r.random() * 2 * np.pi)\n",
    "\n",
    "        #We create the circuit to map it and label it\n",
    "        q = QuantumRegister(2, 'q')\n",
    "        circ = QuantumCircuit(q)\n",
    "        Uphi(circ, q, x, [q[0], q[1]])\n",
    "        circ.u3(V1[0], V1[1], V1[2], q[0])\n",
    "        circ.u3(V2[0], V2[1], V2[2], q[1])\n",
    "        circ_m = measure_direct(circ, q, [q[0], q[1]])\n",
    "        counts = launch(2048, circ_m)\n",
    "\n",
    "        # Now, we will decide it's label\n",
    "        res = 0\n",
    "        for key in counts:\n",
    "            if key[0] == key[1]:\n",
    "                res += counts[key]\n",
    "            else:\n",
    "                res -= counts[key]\n",
    "        # This is the mean result, the one we will use to decide the label\n",
    "        res = res/2048\n",
    "        # delta is the threshold, for the two labeled zones to be clearly separated.\n",
    "        if res > delta and len(P) < n:\n",
    "            P.append(x)\n",
    "        if res < -delta and len(N) < n:\n",
    "            N.append(x)\n",
    "    print(\"Done! {} postive labeled data and {} negative labeled data!\".format(len(P), len(N)))\n",
    "    # We can see the final map\n",
    "    plt.scatter([p[0] for p in P], [p[1] for p in P])\n",
    "    plt.scatter([p[0] for p in N], [p[1] for p in N])\n",
    "    plt.show()\n",
    "    # We also return the parameters used for V1 and V2 if we want to compare different data using the same map.\n",
    "    return N, P, V1, V2"
   ]
  },
  {
   "cell_type": "code",
   "execution_count": 4,
   "metadata": {},
   "outputs": [
    {
     "name": "stdout",
     "output_type": "stream",
     "text": [
      "Start of the generation, 0 postive label and 0 negative label...\n",
      "Try number 50 Positive label: 15, Negative label: 13...\n",
      "Done! 20 postive labeled data and 20 negative labeled data!\n"
     ]
    },
    {
     "data": {
      "image/png": "[encoded data removed]",
      "text/plain": [
       "<Figure size 432x288 with 1 Axes>"
      ]
     },
     "metadata": {
      "needs_background": "light"
     },
     "output_type": "display_data"
    }
   ],
   "source": [
    "# It will create 20 labeled data for each label, so 40 data in total\n",
    "gener = generation(20, 0.3) "
   ]
  },
  {
   "cell_type": "markdown",
   "metadata": {},
   "source": [
    "Now, we have to use this data. There is two algorithms presented in the article to try to find the good hyperplane. Of course, this seems a little bit artificial, because we already know that the data was mapped on a quantum state using the exact map we use to learn, so it will find the true hyperplane we used to generate the data. But other data may benefit from this high dimensional mapping as well, and this generated data is really hard to correctly separate for a normal SVM using classical kernels."
   ]
  },
  {
   "cell_type": "markdown",
   "metadata": {},
   "source": [
    "#### Variational classification\n",
    "\n",
    "The fisrt algorhtm presented in the paper is quite logical when we know how was build the data. The circuit used is again in two parts, the first is the same (the mapping circuit), and the other is almost the same, but instead of a random unitary matrix, we have a parametred circuit which will eventually behave like the random gate used for the generation. \n",
    "\n",
    "This second circuit has parameters that will be optimized using the result of the circuit as an error. To compute the error, it's simple: you run the algorithm $R$ times, you use a function $f$ just like the generation (it can be a different one but I used the same) to map the output to $\\{61,1\\}$, and so you have the number of time you got $-1$ or 1, so you have an estimation of the probability of getting each label. Then using [cross-entropy](https://en.wikipedia.org/wiki/Cross_entropy) or the error function presented in the paper (both works, but cross entropy is more classical), you can have a general error associated to the parameters, to be minimized using an optimizer (here SPSA).\n",
    "\n",
    "This second part of the circuit is composed of $l$ layers, like that:\n",
    "\n",
    "![w.PNG](images/w.PNG)"
   ]
  },
  {
   "cell_type": "markdown",
   "metadata": {},
   "source": [
    "Each entanglign gate here is a $CZ$ but it can be something else, so we have $2n(l+1)$ parameters to optimize (two by gate). So the circuit is usally short enough to be run on real device, but I won't do that because each call will have to wait on the queue. Here is the implementation."
   ]
  },
  {
   "cell_type": "code",
   "execution_count": 5,
   "metadata": {},
   "outputs": [],
   "source": [
    "def W(circ, q, RegX, Theta):\n",
    "    \"\"\"Place a Variational Trainable circuit on circ at RegX\"\"\"\n",
    "    for i in range(len(RegX)):\n",
    "        circ.u3(Theta[i + len(RegX)], 0.0, 0.0, RegX[i])\n",
    "        circ.u1(Theta[i], RegX[i])\n",
    "    for i in range(2*len(RegX), len(Theta), 2*len(RegX)):\n",
    "        circ.barrier(q)\n",
    "        circ.u2(0.0, np.pi, RegX[-1])\n",
    "        circ.cx(RegX[0], RegX[-1])\n",
    "        circ.u2(0.0, np.pi, RegX[-1])\n",
    "        for j in range(len(RegX)):\n",
    "            circ.u3(Theta[i + j + len(RegX)], 0.0, 0.0, RegX[j])\n",
    "            circ.u1(Theta[i+j], RegX[j])\n",
    "    circ.barrier(q)\n",
    "    return 1\n",
    "\n",
    "def sig(x):\n",
    "    \"\"\"Sigmoid\"\"\"\n",
    "    return 1/(1+np.exp(-x))\n",
    "\n",
    "def pmdm(R, py, y, b):\n",
    "    \"\"\"returns p(m(x)!=mhat(x))\"\"\"\n",
    "    return sig( (np.sqrt(R)*( 0.5*(1-y*b) - py ))/np.sqrt(2*(1-py)*py) )\n",
    "\n",
    "\n",
    "def clamp(x, a, b):\n",
    "    \"\"\"np.clip in fact\"\"\"\n",
    "    return a * (x < a) + x * (x >= a and x <= b) + b * (x > b)\n",
    "\n",
    "def Variationer_learn(data, shots, l, epsilon, test=None):\n",
    "    \"\"\"Learn the theta to find the data. data is of the form list (list (tuple label)).\n",
    "    Shots is the amount of shots to take for the empirical evaluation of p_y.\n",
    "    l is the depth of the variationner\"\"\"\n",
    "    # Number of qubits used\n",
    "    n = len(data[0])\n",
    "    # Initial random theta\n",
    "    Theta = np.random.normal(0, 1, 2*n*(l+1))\n",
    "    # Initial circuit\n",
    "    q = QuantumRegister(2, 'q')\n",
    "    RegX = [q[i] for i in range(n)]\n",
    "    # To keep track of what's done\n",
    "    curve = []\n",
    "\n",
    "    def Remp(theta):\n",
    "        \"\"\"The error function\"\"\"\n",
    "        # Part of the circuit common to all data\n",
    "        circ = QuantumCircuit(q)\n",
    "        W(circ, q, RegX, theta)\n",
    "        # For each data, compute the error\n",
    "        err_theta = 0\n",
    "        for i in range(len(data)):\n",
    "            # We create the circuit for this data\n",
    "            circ_uphi = QuantumCircuit(q)\n",
    "            Uphi(circ_uphi, q, data[i][0], RegX)\n",
    "            circ_var = circ_uphi + circ\n",
    "            circ_m = measure_direct(circ_var, q, RegX)\n",
    "            counts = launch(shots, circ_m)\n",
    "            # We count each label\n",
    "            res = 0\n",
    "            for KEY in counts:\n",
    "                if KEY[0] == KEY[1]:\n",
    "                    res += counts[KEY]\n",
    "                else:\n",
    "                    res -= counts[KEY]\n",
    "            res = res / shots\n",
    "            # We have the probability of each label\n",
    "            resm = 0.5 * (1 - res)\n",
    "            resp = 0.5 * (1 + res)\n",
    "            # We compute the error of this data (either cross entropy or binomial error)\n",
    "            if data[i][1] == 1:\n",
    "                #err_theta += pmdm(shots, resp, 1, 0)#clamp(theta[-1], -0.1, 0.1))\n",
    "                err_theta -= np.log(clamp(resp, epsilon, 1-epsilon))\n",
    "            else:\n",
    "                #err_theta += pmdm(shots, resm, -1, 0)#clamp(theta[-1], -0.1, 0.1))\n",
    "                err_theta -= np.log(clamp(resm, epsilon, 1-epsilon))\n",
    "        # The error for this theta\n",
    "        if len(curve)%50==0:\n",
    "            print(\"Step number {}, current error {}\".format(len(curve),err_theta/len(data)))\n",
    "        curve.append(err_theta/len(data))\n",
    "        return err_theta/len(data)\n",
    "    # The optimizer\n",
    "    optimizer = SPSA(max_trials=200, c0=4.0, c1=0.1, c2=0.602,c3=0.101,c4=0.0, skip_calibration=True)\n",
    "    optimizer.set_options(save_steps=1)\n",
    "    theta_star = optimizer.optimize(2*n*(l+1), Remp, initial_point=Theta)\n",
    "\n",
    "    plt.plot([i for i in range(len(curve))], curve)\n",
    "    plt.show()\n",
    "\n",
    "    # We test the trained model\n",
    "    success = 0\n",
    "    circ_test = QuantumCircuit(q)\n",
    "    W(circ_test, q, RegX, theta_star[0])\n",
    "    for datum in test:\n",
    "        circ_uphi_test = QuantumCircuit(q)\n",
    "        Uphi(circ_uphi_test, q, datum[0], RegX)\n",
    "        circ_var_test = circ_uphi_test + circ_test\n",
    "        circ_m_test = measure_direct(circ_var_test, q, RegX)\n",
    "        counts_test = launch(shots, circ_m_test)\n",
    "        res_test = 0\n",
    "        for key in counts_test:\n",
    "            if key[1] == key[0]:\n",
    "                res_test += counts_test[key]\n",
    "            else:\n",
    "                res_test -= counts_test[key]\n",
    "        res_test = res_test / shots\n",
    "        resm_test = 0.5 * (1 - res_test)\n",
    "        resp_test = 0.5 * (1 + res_test)\n",
    "        if resm_test > resp_test:\n",
    "            if datum[1] == -1:\n",
    "                success += 100/len(test)\n",
    "        else:\n",
    "            if datum[1] == 1:\n",
    "                success += 100/len(test)\n",
    "    print(\"Pourcentage de succes:\", success)\n",
    "    return theta_star[1]"
   ]
  },
  {
   "cell_type": "markdown",
   "metadata": {},
   "source": [
    "We will separate the data in two sets, one to train and the other to test the algorithm. So, each label have 10 train and 10 test samples."
   ]
  },
  {
   "cell_type": "code",
   "execution_count": 6,
   "metadata": {},
   "outputs": [
    {
     "name": "stdout",
     "output_type": "stream",
     "text": [
      "Step number 0, current error 0.5787237185599896\n",
      "Step number 50, current error 0.34167836524932094\n",
      "Step number 100, current error 0.24431154043616082\n",
      "Step number 150, current error 0.24960994131865005\n",
      "Step number 200, current error 0.23336312146914495\n",
      "Step number 250, current error 0.2269765734577122\n",
      "Step number 300, current error 0.24193024110186231\n",
      "Step number 350, current error 0.23682913499339397\n",
      "Step number 400, current error 0.23367913546241734\n"
     ]
    },
    {
     "data": {
      "image/png": "[encoded data removed]",
      "text/plain": [
       "<Figure size 432x288 with 1 Axes>"
      ]
     },
     "metadata": {
      "needs_background": "light"
     },
     "output_type": "display_data"
    },
    {
     "name": "stdout",
     "output_type": "stream",
     "text": [
      "Pourcentage de succes: 100.0\n"
     ]
    },
    {
     "data": {
      "text/plain": [
       "0.23367913546241734"
      ]
     },
     "execution_count": 6,
     "metadata": {},
     "output_type": "execute_result"
    }
   ],
   "source": [
    "data_learn = [[gener[0][i], -1] for i in range(len(gener[0])//2)] + [[gener[1][i], 1] for i in range(len(gener[1])//2)]\n",
    "test = [[gener[0][i], -1] for i in range(len(gener[0])//2, len(gener[0]))] +\\\n",
    "       [[gener[1][i], 1] for i in range(len(gener[1])//2, len(gener[1]))]\n",
    "Variationer_learn(data_learn, 500, 3, 10**-10, test)"
   ]
  },
  {
   "cell_type": "markdown",
   "metadata": {},
   "source": [
    "We see that the algorithm successfully learned the right hyperspace. We could technically compute the distance between the real hyperspace and the one estimated here, but this is not part of this work. The authors did such work tough."
   ]
  },
  {
   "cell_type": "markdown",
   "metadata": {},
   "source": [
    "#### Kernel estimation\n",
    "\n",
    "The other method is a real SVM this time (the first method can be interprated as a Kernel SVM too, but it's far from obvious). Here, we want to solve the normal quadratic problem of SVM using a kernel estimated using quantum computers. This is the kernel $K(x,y) = |<\\Phi(x),\\Phi(y)>|^2$, where $\\Phi(x)$ is the quantum state after the first part of the circuit: the feature map. So, to estimate this value, all we have to do is to do $\\Phi^*(y)\\Phi(x)|0_n>$ and then measure the number of zeros. It will give the value we want, up to a sampling error. The more shots the smaller the error, it's just statistics.\n",
    "![kernel.PNG](images/kernel.PNG)"
   ]
  },
  {
   "cell_type": "markdown",
   "metadata": {},
   "source": [
    "The computer will be called $\\frac{n(n-1)}{2}$ times, to evaluate the kernel Gram matrix, then for each value $s$ we want to label, we will have to compute $K(x_i^*,s)$ the kernel function with all support vector. That's a lot of evaluations, considering that the amount of shots for each call must be as big as possible, to have the smallest possible error.\n",
    "\n",
    "That's why I will use the simulator for the implementation, the queue for the real devices would take too much time. And to solve the quadratic problem, we use the svm method from sklearn [here](https://scikit-learn.org/stable/modules/svm.html), to simplify the code."
   ]
  },
  {
   "cell_type": "code",
   "execution_count": 7,
   "metadata": {},
   "outputs": [],
   "source": [
    "def iUphi(circ, q, x, RegX):\n",
    "    \"\"\"inverted Adds a Uphi(x) gate to circ at RegX. x and RegX must be of size 2\"\"\"\n",
    "    Phi = [x[0], x[1], (np.pi - x[0]) * (np.pi - x[1])]\n",
    "    circ.cx(RegX[0], RegX[1])\n",
    "    circ.u1(2 * Phi[2], RegX[1])\n",
    "    circ.cx(RegX[0], RegX[1])\n",
    "    circ.u1(2 * Phi[1], RegX[1])\n",
    "    circ.u1(2 * Phi[0], RegX[0])\n",
    "    for reg in RegX:\n",
    "        circ.h(reg)\n",
    "    circ.cx(RegX[0], RegX[1])\n",
    "    circ.u1(2 * Phi[2], RegX[1])\n",
    "    circ.cx(RegX[0], RegX[1])\n",
    "    circ.u1(2 * Phi[1], RegX[1])\n",
    "    circ.u1(2 * Phi[0], RegX[0])\n",
    "    for reg in RegX:\n",
    "        circ.h(reg)\n",
    "    return 1\n",
    "\n",
    "\n",
    "def kern(X, Y):\n",
    "    \"\"\"The kernel function that takes a list of X  and Y and computes K(x,y) for each pair\"\"\"\n",
    "    # Hard coded number of shots\n",
    "    shots = 1024\n",
    "    n = len(X)\n",
    "    n_y = len(Y)\n",
    "    m = min(len(X[0]), len(Y[0]))\n",
    "    # Quantum circuit\n",
    "    q = QuantumRegister(m, 'q')\n",
    "    RegX = [q[i] for i in range(m)]\n",
    "    # We will put our results here\n",
    "    kernel_mat = np.zeros((n, n_y))\n",
    "    print(\"Start of the evaluation of K, wait for {} iterations\".format(n*n_y))\n",
    "    for i in range(n):\n",
    "        for j in range(n_y):\n",
    "            # To keep track of the time\n",
    "            if (i*n_y+j)%50==0:\n",
    "                print(\"Iteration {}/{}\".format((i*n_y+j), n*n_y))\n",
    "            # We build and run the circuit\n",
    "            circ_x = QuantumCircuit(q)\n",
    "            Uphi(circ_x, q, X[i], RegX)\n",
    "            iUphi(circ_x, q, Y[j], RegX)\n",
    "            circ_m_x = measure_direct(circ_x, q, RegX)\n",
    "            counts_test = launch(shots, circ_m_x)\n",
    "            # We count the probability to get 00\n",
    "            if '0' * m in counts_test:\n",
    "                kernel_mat[i][j] = counts_test['0' * m] / shots\n",
    "    # We check if it was an evaluation of the Gram matrix\n",
    "    # Because this function can't differenciate the first evaluation and the one for the test.\n",
    "    if np.array_equal(X, Y):\n",
    "        #print(0.5*(kernel_mat+kernel_mat.T))\n",
    "        return 0.5*(kernel_mat+kernel_mat.T)\n",
    "    #print(\"The Kernel matrix for this is:\")\n",
    "    #print(kernel_mat)\n",
    "    return kernel_mat\n",
    "\n",
    "\n",
    "def kernel_estimation(X, Y, T, Ty):\n",
    "    \"\"\"The test of the Kernel method\"\"\"\n",
    "    h = 0.5\n",
    "    clf = svm.SVC(kernel=kern)\n",
    "    clf.fit(X, Y)\n",
    "    print(\"Success (quantum kernel): \",clf.score(T, Ty))"
   ]
  },
  {
   "cell_type": "code",
   "execution_count": 8,
   "metadata": {},
   "outputs": [
    {
     "name": "stdout",
     "output_type": "stream",
     "text": [
      "Start of the evaluation of K, wait for 400 iterations\n",
      "Iteration 0/400\n",
      "Iteration 50/400\n",
      "Iteration 100/400\n",
      "Iteration 150/400\n",
      "Iteration 200/400\n",
      "Iteration 250/400\n",
      "Iteration 300/400\n",
      "Iteration 350/400\n",
      "Start of the evaluation of K, wait for 400 iterations\n",
      "Iteration 0/400\n",
      "Iteration 50/400\n",
      "Iteration 100/400\n",
      "Iteration 150/400\n",
      "Iteration 200/400\n",
      "Iteration 250/400\n",
      "Iteration 300/400\n",
      "Iteration 350/400\n",
      "Success (quantum kernel):  0.9\n"
     ]
    }
   ],
   "source": [
    "# We change the data a little bit\n",
    "data_learn = [gener[0][i] for i in range(len(gener[0])//2)] + [gener[1][i] for i in range(len(gener[1])//2)]\n",
    "data_lab = [-1 for i in range(len(gener[0])//2)] + [1 for i in range(len(gener[1])//2)]\n",
    "\n",
    "test = [gener[0][i] for i in range(len(gener[0])//2, len(gener[0]))] +\\\n",
    "       [gener[1][i] for i in range(len(gener[1])//2, len(gener[1]))]\n",
    "test_lab = [-1 for i in range(len(gener[0])//2, len(gener[0]))] +\\\n",
    "       [1 for i in range(len(gener[1])//2, len(gener[1]))]\n",
    "\n",
    "kernel_estimation(data_learn, data_lab, test, test_lab)"
   ]
  },
  {
   "cell_type": "markdown",
   "metadata": {},
   "source": [
    "The final test is to see two things: how good is the Quantum Feature map to separate other data, and how hard it is for a normal svm with an other feature map to saparte the data generated. For this, we will use the dataset iris of sklearn, and compare the performance of the by default feature map of the SVM, to the quantum kernel. Then, we will do the same thing with the quantumly generated data."
   ]
  },
  {
   "cell_type": "code",
   "execution_count": 9,
   "metadata": {},
   "outputs": [],
   "source": [
    "def classical_kernel_estimation(X, Y, T, Ty):\n",
    "    clf = svm.SVC(gamma='auto')\n",
    "    clf.fit(X, Y)\n",
    "    print(\"Success (classical gaussian kernel): \",clf.score(T, Ty))\n",
    "\n",
    "def test_iris(gener):\n",
    "    \"\"\"The classical test\"\"\"\n",
    "    iris = datasets.load_iris()\n",
    "    # We sample from iris (we don't want to separate the data from its label so that's why we do it like that)\n",
    "    dejavu = []\n",
    "    X = []\n",
    "    Y = []\n",
    "    T = []\n",
    "    Ty = []\n",
    "    n = len(iris.target)\n",
    "    for i in range(10):\n",
    "        ind = r.randrange(n)\n",
    "        while ind in dejavu:\n",
    "            ind = r.randrange(n)\n",
    "        X.append(iris.data[ind, :2])\n",
    "        Y.append(-1*(iris.target[ind]==0)+1*(iris.target[ind]!=0))\n",
    "        dejavu.append(ind)\n",
    "        ind = r.randrange(n)\n",
    "        while ind in dejavu:\n",
    "            ind = r.randrange(n)\n",
    "        T.append(iris.data[ind, :2])\n",
    "        Ty.append(-1*(iris.target[ind]==0)+1*(iris.target[ind]!=0))\n",
    "        dejavu.append(ind)\n",
    "    # Our training data is now sampled\n",
    "    print(\"Classical dataset\")\n",
    "    classical_kernel_estimation(X, Y, T, Ty)\n",
    "    kernel_estimation(X, Y, T, Ty)\n",
    "    print(\"Hard dataset\")\n",
    "    data_learn = [gener[0][i] for i in range(len(gener[0]) // 2)] +\\\n",
    "                 [gener[1][i] for i in range(len(gener[1]) // 2)]\n",
    "    data_lab = [-1 for i in range(len(gener[0])//2)] + [1 for i in range(len(gener[1])//2)]\n",
    "\n",
    "    test = [gener[0][i] for i in range(len(gener[0])//2, len(gener[0]))] +\\\n",
    "           [gener[1][i] for i in range(len(gener[1])//2, len(gener[1]))]\n",
    "    test_lab = [-1 for i in range(len(gener[0])//2, len(gener[0]))] +\\\n",
    "           [1 for i in range(len(gener[1])//2, len(gener[1]))]\n",
    "\n",
    "    classical_kernel_estimation(data_learn, data_lab, test, test_lab)\n",
    "    #kernel_estimation(data_learn, data_lab, test, test_lab)\n",
    "\n"
   ]
  },
  {
   "cell_type": "code",
   "execution_count": 10,
   "metadata": {},
   "outputs": [
    {
     "name": "stdout",
     "output_type": "stream",
     "text": [
      "Classical dataset\n",
      "Success (classical gaussian kernel):  1.0\n",
      "Start of the evaluation of K, wait for 100 iterations\n",
      "Iteration 0/100\n",
      "Iteration 50/100\n",
      "Start of the evaluation of K, wait for 100 iterations\n",
      "Iteration 0/100\n",
      "Iteration 50/100\n",
      "Success (quantum kernel):  0.9\n",
      "Hard dataset\n",
      "Success (classical gaussian kernel):  0.8\n"
     ]
    }
   ],
   "source": [
    "test_iris(gener)"
   ]
  },
  {
   "cell_type": "markdown",
   "metadata": {},
   "source": [
    "We see that the classical dataset here wasn't difficult to separate for both kernels. Other runs might give differents results, but quantum kernel will never be terrible, but never better than the classical for this case. So, maybe for easy cases like that, using classical kernels can be a better idea, but there is no great bad consequencies if we use quantum kernel for normal problems.\n",
    "\n",
    "But we see that the classical feature map can't correctly separate the data for the hard sample, so quantum feature map can be really usefull when the data is really hard to normally separate.\n",
    "\n",
    "Here no technique of cross-validation or model selection were applied, so it may be usefull to consider such otpion as well."
   ]
  },
  {
   "cell_type": "markdown",
   "metadata": {},
   "source": [
    "In conclusion, it could be very interesting to use this kind of quantum feature map to allow machine learning to be stronger, but just like with neural network or other kind of strong machine learning models, always check if a normal linear regression won't do the trick, because using a quantum computer to separate the two types of iris here seems a bit overkill. And other types of quantum feature maps may be investigated as well, from the same family or not."
   ]
  },
  {
   "cell_type": "markdown",
   "metadata": {},
   "source": [
    "Note that a general and better implementation of this is present in Aqua, see [here](https://github.com/Qiskit/qiskit-tutorials/blob/master/qiskit/aqua/artificial_intelligence/qsvm_kernel_classification.ipynb) and [here](https://github.com/Qiskit/qiskit-tutorials/blob/master/community/aqua/artificial_intelligence/qsvm_variational.ipynb) for more details. This work was just presentation of the algorithm itself and not the perfect implementation or user case of it."
   ]
  }
 ],
 "metadata": {
  "kernelspec": {
   "display_name": "Python 3",
   "language": "python",
   "name": "python3"
  },
  "language_info": {
   "codemirror_mode": {
    "name": "ipython",
    "version": 3
   },
   "file_extension": ".py",
   "mimetype": "text/x-python",
   "name": "python",
   "nbconvert_exporter": "python",
   "pygments_lexer": "ipython3",
   "version": "3.7.2"
  }
 },
 "nbformat": 4,
 "nbformat_minor": 2
}
